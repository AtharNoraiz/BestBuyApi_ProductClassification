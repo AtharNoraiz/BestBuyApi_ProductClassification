{
 "cells": [
  {
   "cell_type": "code",
   "execution_count": 1,
   "id": "b4c60042",
   "metadata": {},
   "outputs": [],
   "source": [
    "import warnings\n",
    "warnings.filterwarnings(\"ignore\")"
   ]
  },
  {
   "cell_type": "code",
   "execution_count": 2,
   "id": "909523ff",
   "metadata": {},
   "outputs": [],
   "source": [
    "import numpy as np\n",
    "import pandas as pd\n",
    "from ast import literal_eval\n",
    "import string\n",
    "import seaborn as sns\n",
    "import matplotlib.pyplot as plt\n",
    "sns.set(rc = {'figure.figsize':(11,8)})"
   ]
  },
  {
   "cell_type": "code",
   "execution_count": 3,
   "id": "3e521dca",
   "metadata": {},
   "outputs": [
    {
     "name": "stderr",
     "output_type": "stream",
     "text": [
      "[nltk_data] Downloading package stopwords to /home/athar/nltk_data...\n",
      "[nltk_data]   Package stopwords is already up-to-date!\n"
     ]
    },
    {
     "data": {
      "text/plain": [
       "True"
      ]
     },
     "execution_count": 3,
     "metadata": {},
     "output_type": "execute_result"
    }
   ],
   "source": [
    "import nltk\n",
    "from nltk.corpus import stopwords\n",
    "nltk.download('stopwords')"
   ]
  },
  {
   "cell_type": "code",
   "execution_count": 4,
   "id": "37908c68",
   "metadata": {},
   "outputs": [],
   "source": [
    "stop_words = set(stopwords.words('english'))\n",
    "stop_words.update(['.', ',', '\"', \"'\", ':', ';', '(', ')', '[', ']', '{', '}','-','-',';'])"
   ]
  },
  {
   "cell_type": "code",
   "execution_count": 5,
   "id": "cffaaeed",
   "metadata": {},
   "outputs": [],
   "source": [
    "products = pd.read_json('products.json',orient='records')"
   ]
  },
  {
   "cell_type": "code",
   "execution_count": 6,
   "id": "782e1562",
   "metadata": {},
   "outputs": [
    {
     "data": {
      "text/html": [
       "<div>\n",
       "<style scoped>\n",
       "    .dataframe tbody tr th:only-of-type {\n",
       "        vertical-align: middle;\n",
       "    }\n",
       "\n",
       "    .dataframe tbody tr th {\n",
       "        vertical-align: top;\n",
       "    }\n",
       "\n",
       "    .dataframe thead th {\n",
       "        text-align: right;\n",
       "    }\n",
       "</style>\n",
       "<table border=\"1\" class=\"dataframe\">\n",
       "  <thead>\n",
       "    <tr style=\"text-align: right;\">\n",
       "      <th></th>\n",
       "      <th>sku</th>\n",
       "      <th>name</th>\n",
       "      <th>type</th>\n",
       "      <th>price</th>\n",
       "      <th>upc</th>\n",
       "      <th>category</th>\n",
       "      <th>shipping</th>\n",
       "      <th>description</th>\n",
       "      <th>manufacturer</th>\n",
       "      <th>model</th>\n",
       "      <th>url</th>\n",
       "      <th>image</th>\n",
       "    </tr>\n",
       "  </thead>\n",
       "  <tbody>\n",
       "    <tr>\n",
       "      <th>0</th>\n",
       "      <td>43900</td>\n",
       "      <td>Duracell - AAA Batteries (4-Pack)</td>\n",
       "      <td>HardGood</td>\n",
       "      <td>5.49</td>\n",
       "      <td>41333424019</td>\n",
       "      <td>[{'id': 'pcmcat312300050015', 'name': 'Connect...</td>\n",
       "      <td>5.49</td>\n",
       "      <td>Compatible with select electronic devices; AAA...</td>\n",
       "      <td>Duracell</td>\n",
       "      <td>MN2400B4Z</td>\n",
       "      <td>http://www.bestbuy.com/site/duracell-aaa-batte...</td>\n",
       "      <td>http://img.bbystatic.com/BestBuy_US/images/pro...</td>\n",
       "    </tr>\n",
       "    <tr>\n",
       "      <th>1</th>\n",
       "      <td>48530</td>\n",
       "      <td>Duracell - AA 1.5V CopperTop Batteries (4-Pack)</td>\n",
       "      <td>HardGood</td>\n",
       "      <td>5.49</td>\n",
       "      <td>41333415017</td>\n",
       "      <td>[{'id': 'pcmcat312300050015', 'name': 'Connect...</td>\n",
       "      <td>5.49</td>\n",
       "      <td>Long-lasting energy; DURALOCK Power Preserve t...</td>\n",
       "      <td>Duracell</td>\n",
       "      <td>MN1500B4Z</td>\n",
       "      <td>http://www.bestbuy.com/site/duracell-aa-1-5v-c...</td>\n",
       "      <td>http://img.bbystatic.com/BestBuy_US/images/pro...</td>\n",
       "    </tr>\n",
       "    <tr>\n",
       "      <th>2</th>\n",
       "      <td>127687</td>\n",
       "      <td>Duracell - AA Batteries (8-Pack)</td>\n",
       "      <td>HardGood</td>\n",
       "      <td>7.49</td>\n",
       "      <td>41333825014</td>\n",
       "      <td>[{'id': 'pcmcat312300050015', 'name': 'Connect...</td>\n",
       "      <td>5.49</td>\n",
       "      <td>Compatible with select electronic devices; AA ...</td>\n",
       "      <td>Duracell</td>\n",
       "      <td>MN1500B8Z</td>\n",
       "      <td>http://www.bestbuy.com/site/duracell-aa-batter...</td>\n",
       "      <td>http://img.bbystatic.com/BestBuy_US/images/pro...</td>\n",
       "    </tr>\n",
       "    <tr>\n",
       "      <th>3</th>\n",
       "      <td>150115</td>\n",
       "      <td>Energizer - MAX Batteries AA (4-Pack)</td>\n",
       "      <td>HardGood</td>\n",
       "      <td>4.99</td>\n",
       "      <td>39800011329</td>\n",
       "      <td>[{'id': 'pcmcat312300050015', 'name': 'Connect...</td>\n",
       "      <td>5.49</td>\n",
       "      <td>4-pack AA alkaline batteries; battery tester i...</td>\n",
       "      <td>Energizer</td>\n",
       "      <td>E91BP-4</td>\n",
       "      <td>http://www.bestbuy.com/site/energizer-max-batt...</td>\n",
       "      <td>http://img.bbystatic.com/BestBuy_US/images/pro...</td>\n",
       "    </tr>\n",
       "    <tr>\n",
       "      <th>4</th>\n",
       "      <td>185230</td>\n",
       "      <td>Duracell - C Batteries (4-Pack)</td>\n",
       "      <td>HardGood</td>\n",
       "      <td>8.99</td>\n",
       "      <td>41333440019</td>\n",
       "      <td>[{'id': 'pcmcat312300050015', 'name': 'Connect...</td>\n",
       "      <td>5.49</td>\n",
       "      <td>Compatible with select electronic devices; C s...</td>\n",
       "      <td>Duracell</td>\n",
       "      <td>MN1400R4Z</td>\n",
       "      <td>http://www.bestbuy.com/site/duracell-c-batteri...</td>\n",
       "      <td>http://img.bbystatic.com/BestBuy_US/images/pro...</td>\n",
       "    </tr>\n",
       "  </tbody>\n",
       "</table>\n",
       "</div>"
      ],
      "text/plain": [
       "      sku                                             name      type  price  \\\n",
       "0   43900                Duracell - AAA Batteries (4-Pack)  HardGood   5.49   \n",
       "1   48530  Duracell - AA 1.5V CopperTop Batteries (4-Pack)  HardGood   5.49   \n",
       "2  127687                 Duracell - AA Batteries (8-Pack)  HardGood   7.49   \n",
       "3  150115            Energizer - MAX Batteries AA (4-Pack)  HardGood   4.99   \n",
       "4  185230                  Duracell - C Batteries (4-Pack)  HardGood   8.99   \n",
       "\n",
       "           upc                                           category shipping  \\\n",
       "0  41333424019  [{'id': 'pcmcat312300050015', 'name': 'Connect...     5.49   \n",
       "1  41333415017  [{'id': 'pcmcat312300050015', 'name': 'Connect...     5.49   \n",
       "2  41333825014  [{'id': 'pcmcat312300050015', 'name': 'Connect...     5.49   \n",
       "3  39800011329  [{'id': 'pcmcat312300050015', 'name': 'Connect...     5.49   \n",
       "4  41333440019  [{'id': 'pcmcat312300050015', 'name': 'Connect...     5.49   \n",
       "\n",
       "                                         description manufacturer      model  \\\n",
       "0  Compatible with select electronic devices; AAA...     Duracell  MN2400B4Z   \n",
       "1  Long-lasting energy; DURALOCK Power Preserve t...     Duracell  MN1500B4Z   \n",
       "2  Compatible with select electronic devices; AA ...     Duracell  MN1500B8Z   \n",
       "3  4-pack AA alkaline batteries; battery tester i...    Energizer    E91BP-4   \n",
       "4  Compatible with select electronic devices; C s...     Duracell  MN1400R4Z   \n",
       "\n",
       "                                                 url  \\\n",
       "0  http://www.bestbuy.com/site/duracell-aaa-batte...   \n",
       "1  http://www.bestbuy.com/site/duracell-aa-1-5v-c...   \n",
       "2  http://www.bestbuy.com/site/duracell-aa-batter...   \n",
       "3  http://www.bestbuy.com/site/energizer-max-batt...   \n",
       "4  http://www.bestbuy.com/site/duracell-c-batteri...   \n",
       "\n",
       "                                               image  \n",
       "0  http://img.bbystatic.com/BestBuy_US/images/pro...  \n",
       "1  http://img.bbystatic.com/BestBuy_US/images/pro...  \n",
       "2  http://img.bbystatic.com/BestBuy_US/images/pro...  \n",
       "3  http://img.bbystatic.com/BestBuy_US/images/pro...  \n",
       "4  http://img.bbystatic.com/BestBuy_US/images/pro...  "
      ]
     },
     "execution_count": 6,
     "metadata": {},
     "output_type": "execute_result"
    }
   ],
   "source": [
    "products.head(5)"
   ]
  },
  {
   "cell_type": "code",
   "execution_count": 7,
   "id": "b67076bc",
   "metadata": {},
   "outputs": [
    {
     "data": {
      "text/plain": [
       "Index(['sku', 'name', 'type', 'price', 'upc', 'category', 'shipping',\n",
       "       'description', 'manufacturer', 'model', 'url', 'image'],\n",
       "      dtype='object')"
      ]
     },
     "execution_count": 7,
     "metadata": {},
     "output_type": "execute_result"
    }
   ],
   "source": [
    "products.columns"
   ]
  },
  {
   "cell_type": "code",
   "execution_count": 8,
   "id": "9fb3c897",
   "metadata": {},
   "outputs": [],
   "source": [
    "columns_to_drop = ['sku','type','price','upc','shipping','manufacturer','model','url','image']"
   ]
  },
  {
   "cell_type": "code",
   "execution_count": 9,
   "id": "01babbc1",
   "metadata": {},
   "outputs": [],
   "source": [
    "products.drop(columns_to_drop,axis = 1,inplace = True)"
   ]
  },
  {
   "cell_type": "code",
   "execution_count": 10,
   "id": "d5064fbb",
   "metadata": {},
   "outputs": [
    {
     "data": {
      "text/html": [
       "<div>\n",
       "<style scoped>\n",
       "    .dataframe tbody tr th:only-of-type {\n",
       "        vertical-align: middle;\n",
       "    }\n",
       "\n",
       "    .dataframe tbody tr th {\n",
       "        vertical-align: top;\n",
       "    }\n",
       "\n",
       "    .dataframe thead th {\n",
       "        text-align: right;\n",
       "    }\n",
       "</style>\n",
       "<table border=\"1\" class=\"dataframe\">\n",
       "  <thead>\n",
       "    <tr style=\"text-align: right;\">\n",
       "      <th></th>\n",
       "      <th>name</th>\n",
       "      <th>category</th>\n",
       "      <th>description</th>\n",
       "    </tr>\n",
       "  </thead>\n",
       "  <tbody>\n",
       "    <tr>\n",
       "      <th>0</th>\n",
       "      <td>Duracell - AAA Batteries (4-Pack)</td>\n",
       "      <td>[{'id': 'pcmcat312300050015', 'name': 'Connect...</td>\n",
       "      <td>Compatible with select electronic devices; AAA...</td>\n",
       "    </tr>\n",
       "    <tr>\n",
       "      <th>1</th>\n",
       "      <td>Duracell - AA 1.5V CopperTop Batteries (4-Pack)</td>\n",
       "      <td>[{'id': 'pcmcat312300050015', 'name': 'Connect...</td>\n",
       "      <td>Long-lasting energy; DURALOCK Power Preserve t...</td>\n",
       "    </tr>\n",
       "    <tr>\n",
       "      <th>2</th>\n",
       "      <td>Duracell - AA Batteries (8-Pack)</td>\n",
       "      <td>[{'id': 'pcmcat312300050015', 'name': 'Connect...</td>\n",
       "      <td>Compatible with select electronic devices; AA ...</td>\n",
       "    </tr>\n",
       "    <tr>\n",
       "      <th>3</th>\n",
       "      <td>Energizer - MAX Batteries AA (4-Pack)</td>\n",
       "      <td>[{'id': 'pcmcat312300050015', 'name': 'Connect...</td>\n",
       "      <td>4-pack AA alkaline batteries; battery tester i...</td>\n",
       "    </tr>\n",
       "    <tr>\n",
       "      <th>4</th>\n",
       "      <td>Duracell - C Batteries (4-Pack)</td>\n",
       "      <td>[{'id': 'pcmcat312300050015', 'name': 'Connect...</td>\n",
       "      <td>Compatible with select electronic devices; C s...</td>\n",
       "    </tr>\n",
       "  </tbody>\n",
       "</table>\n",
       "</div>"
      ],
      "text/plain": [
       "                                              name  \\\n",
       "0                Duracell - AAA Batteries (4-Pack)   \n",
       "1  Duracell - AA 1.5V CopperTop Batteries (4-Pack)   \n",
       "2                 Duracell - AA Batteries (8-Pack)   \n",
       "3            Energizer - MAX Batteries AA (4-Pack)   \n",
       "4                  Duracell - C Batteries (4-Pack)   \n",
       "\n",
       "                                            category  \\\n",
       "0  [{'id': 'pcmcat312300050015', 'name': 'Connect...   \n",
       "1  [{'id': 'pcmcat312300050015', 'name': 'Connect...   \n",
       "2  [{'id': 'pcmcat312300050015', 'name': 'Connect...   \n",
       "3  [{'id': 'pcmcat312300050015', 'name': 'Connect...   \n",
       "4  [{'id': 'pcmcat312300050015', 'name': 'Connect...   \n",
       "\n",
       "                                         description  \n",
       "0  Compatible with select electronic devices; AAA...  \n",
       "1  Long-lasting energy; DURALOCK Power Preserve t...  \n",
       "2  Compatible with select electronic devices; AA ...  \n",
       "3  4-pack AA alkaline batteries; battery tester i...  \n",
       "4  Compatible with select electronic devices; C s...  "
      ]
     },
     "execution_count": 10,
     "metadata": {},
     "output_type": "execute_result"
    }
   ],
   "source": [
    "products.head()"
   ]
  },
  {
   "cell_type": "code",
   "execution_count": 11,
   "id": "a62a3b8c",
   "metadata": {},
   "outputs": [
    {
     "data": {
      "text/plain": [
       "[{'id': 'pcmcat312300050015', 'name': 'Connected Home & Housewares'},\n",
       " {'id': 'pcmcat248700050021', 'name': 'Housewares'},\n",
       " {'id': 'pcmcat303600050001', 'name': 'Household Batteries'},\n",
       " {'id': 'abcat0208002', 'name': 'Alkaline Batteries'}]"
      ]
     },
     "execution_count": 11,
     "metadata": {},
     "output_type": "execute_result"
    }
   ],
   "source": [
    "products.category[1]"
   ]
  },
  {
   "cell_type": "code",
   "execution_count": 12,
   "id": "f82c0122",
   "metadata": {},
   "outputs": [],
   "source": [
    "categories = products['category'].apply(pd.Series)"
   ]
  },
  {
   "cell_type": "code",
   "execution_count": 13,
   "id": "bd4b2327",
   "metadata": {},
   "outputs": [
    {
     "data": {
      "text/html": [
       "<div>\n",
       "<style scoped>\n",
       "    .dataframe tbody tr th:only-of-type {\n",
       "        vertical-align: middle;\n",
       "    }\n",
       "\n",
       "    .dataframe tbody tr th {\n",
       "        vertical-align: top;\n",
       "    }\n",
       "\n",
       "    .dataframe thead th {\n",
       "        text-align: right;\n",
       "    }\n",
       "</style>\n",
       "<table border=\"1\" class=\"dataframe\">\n",
       "  <thead>\n",
       "    <tr style=\"text-align: right;\">\n",
       "      <th></th>\n",
       "      <th>0</th>\n",
       "      <th>1</th>\n",
       "      <th>2</th>\n",
       "      <th>3</th>\n",
       "      <th>4</th>\n",
       "      <th>5</th>\n",
       "      <th>6</th>\n",
       "    </tr>\n",
       "  </thead>\n",
       "  <tbody>\n",
       "    <tr>\n",
       "      <th>0</th>\n",
       "      <td>{'id': 'pcmcat312300050015', 'name': 'Connecte...</td>\n",
       "      <td>{'id': 'pcmcat248700050021', 'name': 'Housewar...</td>\n",
       "      <td>{'id': 'pcmcat303600050001', 'name': 'Househol...</td>\n",
       "      <td>{'id': 'abcat0208002', 'name': 'Alkaline Batte...</td>\n",
       "      <td>NaN</td>\n",
       "      <td>NaN</td>\n",
       "      <td>NaN</td>\n",
       "    </tr>\n",
       "    <tr>\n",
       "      <th>1</th>\n",
       "      <td>{'id': 'pcmcat312300050015', 'name': 'Connecte...</td>\n",
       "      <td>{'id': 'pcmcat248700050021', 'name': 'Housewar...</td>\n",
       "      <td>{'id': 'pcmcat303600050001', 'name': 'Househol...</td>\n",
       "      <td>{'id': 'abcat0208002', 'name': 'Alkaline Batte...</td>\n",
       "      <td>NaN</td>\n",
       "      <td>NaN</td>\n",
       "      <td>NaN</td>\n",
       "    </tr>\n",
       "    <tr>\n",
       "      <th>2</th>\n",
       "      <td>{'id': 'pcmcat312300050015', 'name': 'Connecte...</td>\n",
       "      <td>{'id': 'pcmcat248700050021', 'name': 'Housewar...</td>\n",
       "      <td>{'id': 'pcmcat303600050001', 'name': 'Househol...</td>\n",
       "      <td>{'id': 'abcat0208002', 'name': 'Alkaline Batte...</td>\n",
       "      <td>NaN</td>\n",
       "      <td>NaN</td>\n",
       "      <td>NaN</td>\n",
       "    </tr>\n",
       "    <tr>\n",
       "      <th>3</th>\n",
       "      <td>{'id': 'pcmcat312300050015', 'name': 'Connecte...</td>\n",
       "      <td>{'id': 'pcmcat248700050021', 'name': 'Housewar...</td>\n",
       "      <td>{'id': 'pcmcat303600050001', 'name': 'Househol...</td>\n",
       "      <td>{'id': 'abcat0208002', 'name': 'Alkaline Batte...</td>\n",
       "      <td>NaN</td>\n",
       "      <td>NaN</td>\n",
       "      <td>NaN</td>\n",
       "    </tr>\n",
       "    <tr>\n",
       "      <th>4</th>\n",
       "      <td>{'id': 'pcmcat312300050015', 'name': 'Connecte...</td>\n",
       "      <td>{'id': 'pcmcat248700050021', 'name': 'Housewar...</td>\n",
       "      <td>{'id': 'pcmcat303600050001', 'name': 'Househol...</td>\n",
       "      <td>{'id': 'abcat0208002', 'name': 'Alkaline Batte...</td>\n",
       "      <td>NaN</td>\n",
       "      <td>NaN</td>\n",
       "      <td>NaN</td>\n",
       "    </tr>\n",
       "  </tbody>\n",
       "</table>\n",
       "</div>"
      ],
      "text/plain": [
       "                                                   0  \\\n",
       "0  {'id': 'pcmcat312300050015', 'name': 'Connecte...   \n",
       "1  {'id': 'pcmcat312300050015', 'name': 'Connecte...   \n",
       "2  {'id': 'pcmcat312300050015', 'name': 'Connecte...   \n",
       "3  {'id': 'pcmcat312300050015', 'name': 'Connecte...   \n",
       "4  {'id': 'pcmcat312300050015', 'name': 'Connecte...   \n",
       "\n",
       "                                                   1  \\\n",
       "0  {'id': 'pcmcat248700050021', 'name': 'Housewar...   \n",
       "1  {'id': 'pcmcat248700050021', 'name': 'Housewar...   \n",
       "2  {'id': 'pcmcat248700050021', 'name': 'Housewar...   \n",
       "3  {'id': 'pcmcat248700050021', 'name': 'Housewar...   \n",
       "4  {'id': 'pcmcat248700050021', 'name': 'Housewar...   \n",
       "\n",
       "                                                   2  \\\n",
       "0  {'id': 'pcmcat303600050001', 'name': 'Househol...   \n",
       "1  {'id': 'pcmcat303600050001', 'name': 'Househol...   \n",
       "2  {'id': 'pcmcat303600050001', 'name': 'Househol...   \n",
       "3  {'id': 'pcmcat303600050001', 'name': 'Househol...   \n",
       "4  {'id': 'pcmcat303600050001', 'name': 'Househol...   \n",
       "\n",
       "                                                   3    4    5    6  \n",
       "0  {'id': 'abcat0208002', 'name': 'Alkaline Batte...  NaN  NaN  NaN  \n",
       "1  {'id': 'abcat0208002', 'name': 'Alkaline Batte...  NaN  NaN  NaN  \n",
       "2  {'id': 'abcat0208002', 'name': 'Alkaline Batte...  NaN  NaN  NaN  \n",
       "3  {'id': 'abcat0208002', 'name': 'Alkaline Batte...  NaN  NaN  NaN  \n",
       "4  {'id': 'abcat0208002', 'name': 'Alkaline Batte...  NaN  NaN  NaN  "
      ]
     },
     "execution_count": 13,
     "metadata": {},
     "output_type": "execute_result"
    }
   ],
   "source": [
    "categories.head(5)"
   ]
  },
  {
   "cell_type": "code",
   "execution_count": 14,
   "id": "fcc2ace8",
   "metadata": {},
   "outputs": [],
   "source": [
    "def check_values(x):\n",
    "    \"\"\" calculate percentage of  values in dataFrame.\n",
    "        arguments:\n",
    "                  x: DataFrame \"\"\"\n",
    "    \n",
    "    total_null_values = x.isna().sum()\n",
    "    total_values = x.shape[0]\n",
    "    ratio = total_null_values/total_values\n",
    "    \n",
    "    return 1-ratio"
   ]
  },
  {
   "cell_type": "code",
   "execution_count": 15,
   "id": "d4c94f68",
   "metadata": {},
   "outputs": [
    {
     "data": {
      "text/plain": [
       "0    1.000000\n",
       "1    0.985381\n",
       "2    0.871374\n",
       "3    0.506486\n",
       "4    0.109321\n",
       "5    0.006699\n",
       "6    0.000019\n",
       "dtype: float64"
      ]
     },
     "execution_count": 15,
     "metadata": {},
     "output_type": "execute_result"
    }
   ],
   "source": [
    "check_values(categories)"
   ]
  },
  {
   "cell_type": "code",
   "execution_count": 16,
   "id": "dac879c4",
   "metadata": {},
   "outputs": [],
   "source": [
    "categories = categories.iloc[:,:3].dropna()"
   ]
  },
  {
   "cell_type": "code",
   "execution_count": 17,
   "id": "20d81ab5",
   "metadata": {},
   "outputs": [],
   "source": [
    "categories = categories.rename( columns = lambda x : 'level_' + str(x) )"
   ]
  },
  {
   "cell_type": "code",
   "execution_count": 18,
   "id": "317bf7f2",
   "metadata": {},
   "outputs": [
    {
     "data": {
      "text/html": [
       "<div>\n",
       "<style scoped>\n",
       "    .dataframe tbody tr th:only-of-type {\n",
       "        vertical-align: middle;\n",
       "    }\n",
       "\n",
       "    .dataframe tbody tr th {\n",
       "        vertical-align: top;\n",
       "    }\n",
       "\n",
       "    .dataframe thead th {\n",
       "        text-align: right;\n",
       "    }\n",
       "</style>\n",
       "<table border=\"1\" class=\"dataframe\">\n",
       "  <thead>\n",
       "    <tr style=\"text-align: right;\">\n",
       "      <th></th>\n",
       "      <th>level_0</th>\n",
       "      <th>level_1</th>\n",
       "      <th>level_2</th>\n",
       "    </tr>\n",
       "  </thead>\n",
       "  <tbody>\n",
       "    <tr>\n",
       "      <th>0</th>\n",
       "      <td>{'id': 'pcmcat312300050015', 'name': 'Connecte...</td>\n",
       "      <td>{'id': 'pcmcat248700050021', 'name': 'Housewar...</td>\n",
       "      <td>{'id': 'pcmcat303600050001', 'name': 'Househol...</td>\n",
       "    </tr>\n",
       "    <tr>\n",
       "      <th>1</th>\n",
       "      <td>{'id': 'pcmcat312300050015', 'name': 'Connecte...</td>\n",
       "      <td>{'id': 'pcmcat248700050021', 'name': 'Housewar...</td>\n",
       "      <td>{'id': 'pcmcat303600050001', 'name': 'Househol...</td>\n",
       "    </tr>\n",
       "    <tr>\n",
       "      <th>2</th>\n",
       "      <td>{'id': 'pcmcat312300050015', 'name': 'Connecte...</td>\n",
       "      <td>{'id': 'pcmcat248700050021', 'name': 'Housewar...</td>\n",
       "      <td>{'id': 'pcmcat303600050001', 'name': 'Househol...</td>\n",
       "    </tr>\n",
       "    <tr>\n",
       "      <th>3</th>\n",
       "      <td>{'id': 'pcmcat312300050015', 'name': 'Connecte...</td>\n",
       "      <td>{'id': 'pcmcat248700050021', 'name': 'Housewar...</td>\n",
       "      <td>{'id': 'pcmcat303600050001', 'name': 'Househol...</td>\n",
       "    </tr>\n",
       "    <tr>\n",
       "      <th>4</th>\n",
       "      <td>{'id': 'pcmcat312300050015', 'name': 'Connecte...</td>\n",
       "      <td>{'id': 'pcmcat248700050021', 'name': 'Housewar...</td>\n",
       "      <td>{'id': 'pcmcat303600050001', 'name': 'Househol...</td>\n",
       "    </tr>\n",
       "  </tbody>\n",
       "</table>\n",
       "</div>"
      ],
      "text/plain": [
       "                                             level_0  \\\n",
       "0  {'id': 'pcmcat312300050015', 'name': 'Connecte...   \n",
       "1  {'id': 'pcmcat312300050015', 'name': 'Connecte...   \n",
       "2  {'id': 'pcmcat312300050015', 'name': 'Connecte...   \n",
       "3  {'id': 'pcmcat312300050015', 'name': 'Connecte...   \n",
       "4  {'id': 'pcmcat312300050015', 'name': 'Connecte...   \n",
       "\n",
       "                                             level_1  \\\n",
       "0  {'id': 'pcmcat248700050021', 'name': 'Housewar...   \n",
       "1  {'id': 'pcmcat248700050021', 'name': 'Housewar...   \n",
       "2  {'id': 'pcmcat248700050021', 'name': 'Housewar...   \n",
       "3  {'id': 'pcmcat248700050021', 'name': 'Housewar...   \n",
       "4  {'id': 'pcmcat248700050021', 'name': 'Housewar...   \n",
       "\n",
       "                                             level_2  \n",
       "0  {'id': 'pcmcat303600050001', 'name': 'Househol...  \n",
       "1  {'id': 'pcmcat303600050001', 'name': 'Househol...  \n",
       "2  {'id': 'pcmcat303600050001', 'name': 'Househol...  \n",
       "3  {'id': 'pcmcat303600050001', 'name': 'Househol...  \n",
       "4  {'id': 'pcmcat303600050001', 'name': 'Househol...  "
      ]
     },
     "execution_count": 18,
     "metadata": {},
     "output_type": "execute_result"
    }
   ],
   "source": [
    "categories.head(5)"
   ]
  },
  {
   "cell_type": "code",
   "execution_count": 19,
   "id": "36f450a1",
   "metadata": {},
   "outputs": [
    {
     "data": {
      "text/html": [
       "<div>\n",
       "<style scoped>\n",
       "    .dataframe tbody tr th:only-of-type {\n",
       "        vertical-align: middle;\n",
       "    }\n",
       "\n",
       "    .dataframe tbody tr th {\n",
       "        vertical-align: top;\n",
       "    }\n",
       "\n",
       "    .dataframe thead th {\n",
       "        text-align: right;\n",
       "    }\n",
       "</style>\n",
       "<table border=\"1\" class=\"dataframe\">\n",
       "  <thead>\n",
       "    <tr style=\"text-align: right;\">\n",
       "      <th></th>\n",
       "      <th>name</th>\n",
       "      <th>description</th>\n",
       "      <th>level_0</th>\n",
       "      <th>level_1</th>\n",
       "      <th>level_2</th>\n",
       "    </tr>\n",
       "  </thead>\n",
       "  <tbody>\n",
       "    <tr>\n",
       "      <th>0</th>\n",
       "      <td>Duracell - AAA Batteries (4-Pack)</td>\n",
       "      <td>Compatible with select electronic devices; AAA...</td>\n",
       "      <td>{'id': 'pcmcat312300050015', 'name': 'Connecte...</td>\n",
       "      <td>{'id': 'pcmcat248700050021', 'name': 'Housewar...</td>\n",
       "      <td>{'id': 'pcmcat303600050001', 'name': 'Househol...</td>\n",
       "    </tr>\n",
       "    <tr>\n",
       "      <th>1</th>\n",
       "      <td>Duracell - AA 1.5V CopperTop Batteries (4-Pack)</td>\n",
       "      <td>Long-lasting energy; DURALOCK Power Preserve t...</td>\n",
       "      <td>{'id': 'pcmcat312300050015', 'name': 'Connecte...</td>\n",
       "      <td>{'id': 'pcmcat248700050021', 'name': 'Housewar...</td>\n",
       "      <td>{'id': 'pcmcat303600050001', 'name': 'Househol...</td>\n",
       "    </tr>\n",
       "    <tr>\n",
       "      <th>2</th>\n",
       "      <td>Duracell - AA Batteries (8-Pack)</td>\n",
       "      <td>Compatible with select electronic devices; AA ...</td>\n",
       "      <td>{'id': 'pcmcat312300050015', 'name': 'Connecte...</td>\n",
       "      <td>{'id': 'pcmcat248700050021', 'name': 'Housewar...</td>\n",
       "      <td>{'id': 'pcmcat303600050001', 'name': 'Househol...</td>\n",
       "    </tr>\n",
       "    <tr>\n",
       "      <th>3</th>\n",
       "      <td>Energizer - MAX Batteries AA (4-Pack)</td>\n",
       "      <td>4-pack AA alkaline batteries; battery tester i...</td>\n",
       "      <td>{'id': 'pcmcat312300050015', 'name': 'Connecte...</td>\n",
       "      <td>{'id': 'pcmcat248700050021', 'name': 'Housewar...</td>\n",
       "      <td>{'id': 'pcmcat303600050001', 'name': 'Househol...</td>\n",
       "    </tr>\n",
       "    <tr>\n",
       "      <th>4</th>\n",
       "      <td>Duracell - C Batteries (4-Pack)</td>\n",
       "      <td>Compatible with select electronic devices; C s...</td>\n",
       "      <td>{'id': 'pcmcat312300050015', 'name': 'Connecte...</td>\n",
       "      <td>{'id': 'pcmcat248700050021', 'name': 'Housewar...</td>\n",
       "      <td>{'id': 'pcmcat303600050001', 'name': 'Househol...</td>\n",
       "    </tr>\n",
       "  </tbody>\n",
       "</table>\n",
       "</div>"
      ],
      "text/plain": [
       "                                              name  \\\n",
       "0                Duracell - AAA Batteries (4-Pack)   \n",
       "1  Duracell - AA 1.5V CopperTop Batteries (4-Pack)   \n",
       "2                 Duracell - AA Batteries (8-Pack)   \n",
       "3            Energizer - MAX Batteries AA (4-Pack)   \n",
       "4                  Duracell - C Batteries (4-Pack)   \n",
       "\n",
       "                                         description  \\\n",
       "0  Compatible with select electronic devices; AAA...   \n",
       "1  Long-lasting energy; DURALOCK Power Preserve t...   \n",
       "2  Compatible with select electronic devices; AA ...   \n",
       "3  4-pack AA alkaline batteries; battery tester i...   \n",
       "4  Compatible with select electronic devices; C s...   \n",
       "\n",
       "                                             level_0  \\\n",
       "0  {'id': 'pcmcat312300050015', 'name': 'Connecte...   \n",
       "1  {'id': 'pcmcat312300050015', 'name': 'Connecte...   \n",
       "2  {'id': 'pcmcat312300050015', 'name': 'Connecte...   \n",
       "3  {'id': 'pcmcat312300050015', 'name': 'Connecte...   \n",
       "4  {'id': 'pcmcat312300050015', 'name': 'Connecte...   \n",
       "\n",
       "                                             level_1  \\\n",
       "0  {'id': 'pcmcat248700050021', 'name': 'Housewar...   \n",
       "1  {'id': 'pcmcat248700050021', 'name': 'Housewar...   \n",
       "2  {'id': 'pcmcat248700050021', 'name': 'Housewar...   \n",
       "3  {'id': 'pcmcat248700050021', 'name': 'Housewar...   \n",
       "4  {'id': 'pcmcat248700050021', 'name': 'Housewar...   \n",
       "\n",
       "                                             level_2  \n",
       "0  {'id': 'pcmcat303600050001', 'name': 'Househol...  \n",
       "1  {'id': 'pcmcat303600050001', 'name': 'Househol...  \n",
       "2  {'id': 'pcmcat303600050001', 'name': 'Househol...  \n",
       "3  {'id': 'pcmcat303600050001', 'name': 'Househol...  \n",
       "4  {'id': 'pcmcat303600050001', 'name': 'Househol...  "
      ]
     },
     "execution_count": 19,
     "metadata": {},
     "output_type": "execute_result"
    }
   ],
   "source": [
    "df = pd.concat([products,categories],axis = 1)\n",
    "df.drop('category',axis = 1,inplace = True)\n",
    "df.head()"
   ]
  },
  {
   "cell_type": "code",
   "execution_count": 20,
   "id": "5d96b8dc",
   "metadata": {},
   "outputs": [
    {
     "data": {
      "text/plain": [
       "name              1\n",
       "description       0\n",
       "level_0        6643\n",
       "level_1        6643\n",
       "level_2        6643\n",
       "dtype: int64"
      ]
     },
     "execution_count": 20,
     "metadata": {},
     "output_type": "execute_result"
    }
   ],
   "source": [
    "df.isna().sum() "
   ]
  },
  {
   "cell_type": "code",
   "execution_count": 21,
   "id": "9541069c",
   "metadata": {},
   "outputs": [],
   "source": [
    "df.dropna(inplace = True)"
   ]
  },
  {
   "cell_type": "code",
   "execution_count": 22,
   "id": "59552b40",
   "metadata": {},
   "outputs": [
    {
     "data": {
      "text/plain": [
       "(45003, 5)"
      ]
     },
     "execution_count": 22,
     "metadata": {},
     "output_type": "execute_result"
    }
   ],
   "source": [
    "df.shape"
   ]
  },
  {
   "cell_type": "code",
   "execution_count": 23,
   "id": "e6c41759",
   "metadata": {},
   "outputs": [
    {
     "data": {
      "text/html": [
       "<div>\n",
       "<style scoped>\n",
       "    .dataframe tbody tr th:only-of-type {\n",
       "        vertical-align: middle;\n",
       "    }\n",
       "\n",
       "    .dataframe tbody tr th {\n",
       "        vertical-align: top;\n",
       "    }\n",
       "\n",
       "    .dataframe thead th {\n",
       "        text-align: right;\n",
       "    }\n",
       "</style>\n",
       "<table border=\"1\" class=\"dataframe\">\n",
       "  <thead>\n",
       "    <tr style=\"text-align: right;\">\n",
       "      <th></th>\n",
       "      <th>name</th>\n",
       "      <th>description</th>\n",
       "      <th>level_0</th>\n",
       "      <th>level_1</th>\n",
       "      <th>level_2</th>\n",
       "    </tr>\n",
       "  </thead>\n",
       "  <tbody>\n",
       "    <tr>\n",
       "      <th>0</th>\n",
       "      <td>Duracell - AAA Batteries (4-Pack)</td>\n",
       "      <td>Compatible with select electronic devices; AAA...</td>\n",
       "      <td>{'id': 'pcmcat312300050015', 'name': 'Connecte...</td>\n",
       "      <td>{'id': 'pcmcat248700050021', 'name': 'Housewar...</td>\n",
       "      <td>{'id': 'pcmcat303600050001', 'name': 'Househol...</td>\n",
       "    </tr>\n",
       "    <tr>\n",
       "      <th>1</th>\n",
       "      <td>Duracell - AA 1.5V CopperTop Batteries (4-Pack)</td>\n",
       "      <td>Long-lasting energy; DURALOCK Power Preserve t...</td>\n",
       "      <td>{'id': 'pcmcat312300050015', 'name': 'Connecte...</td>\n",
       "      <td>{'id': 'pcmcat248700050021', 'name': 'Housewar...</td>\n",
       "      <td>{'id': 'pcmcat303600050001', 'name': 'Househol...</td>\n",
       "    </tr>\n",
       "    <tr>\n",
       "      <th>2</th>\n",
       "      <td>Duracell - AA Batteries (8-Pack)</td>\n",
       "      <td>Compatible with select electronic devices; AA ...</td>\n",
       "      <td>{'id': 'pcmcat312300050015', 'name': 'Connecte...</td>\n",
       "      <td>{'id': 'pcmcat248700050021', 'name': 'Housewar...</td>\n",
       "      <td>{'id': 'pcmcat303600050001', 'name': 'Househol...</td>\n",
       "    </tr>\n",
       "    <tr>\n",
       "      <th>3</th>\n",
       "      <td>Energizer - MAX Batteries AA (4-Pack)</td>\n",
       "      <td>4-pack AA alkaline batteries; battery tester i...</td>\n",
       "      <td>{'id': 'pcmcat312300050015', 'name': 'Connecte...</td>\n",
       "      <td>{'id': 'pcmcat248700050021', 'name': 'Housewar...</td>\n",
       "      <td>{'id': 'pcmcat303600050001', 'name': 'Househol...</td>\n",
       "    </tr>\n",
       "    <tr>\n",
       "      <th>4</th>\n",
       "      <td>Duracell - C Batteries (4-Pack)</td>\n",
       "      <td>Compatible with select electronic devices; C s...</td>\n",
       "      <td>{'id': 'pcmcat312300050015', 'name': 'Connecte...</td>\n",
       "      <td>{'id': 'pcmcat248700050021', 'name': 'Housewar...</td>\n",
       "      <td>{'id': 'pcmcat303600050001', 'name': 'Househol...</td>\n",
       "    </tr>\n",
       "  </tbody>\n",
       "</table>\n",
       "</div>"
      ],
      "text/plain": [
       "                                              name  \\\n",
       "0                Duracell - AAA Batteries (4-Pack)   \n",
       "1  Duracell - AA 1.5V CopperTop Batteries (4-Pack)   \n",
       "2                 Duracell - AA Batteries (8-Pack)   \n",
       "3            Energizer - MAX Batteries AA (4-Pack)   \n",
       "4                  Duracell - C Batteries (4-Pack)   \n",
       "\n",
       "                                         description  \\\n",
       "0  Compatible with select electronic devices; AAA...   \n",
       "1  Long-lasting energy; DURALOCK Power Preserve t...   \n",
       "2  Compatible with select electronic devices; AA ...   \n",
       "3  4-pack AA alkaline batteries; battery tester i...   \n",
       "4  Compatible with select electronic devices; C s...   \n",
       "\n",
       "                                             level_0  \\\n",
       "0  {'id': 'pcmcat312300050015', 'name': 'Connecte...   \n",
       "1  {'id': 'pcmcat312300050015', 'name': 'Connecte...   \n",
       "2  {'id': 'pcmcat312300050015', 'name': 'Connecte...   \n",
       "3  {'id': 'pcmcat312300050015', 'name': 'Connecte...   \n",
       "4  {'id': 'pcmcat312300050015', 'name': 'Connecte...   \n",
       "\n",
       "                                             level_1  \\\n",
       "0  {'id': 'pcmcat248700050021', 'name': 'Housewar...   \n",
       "1  {'id': 'pcmcat248700050021', 'name': 'Housewar...   \n",
       "2  {'id': 'pcmcat248700050021', 'name': 'Housewar...   \n",
       "3  {'id': 'pcmcat248700050021', 'name': 'Housewar...   \n",
       "4  {'id': 'pcmcat248700050021', 'name': 'Housewar...   \n",
       "\n",
       "                                             level_2  \n",
       "0  {'id': 'pcmcat303600050001', 'name': 'Househol...  \n",
       "1  {'id': 'pcmcat303600050001', 'name': 'Househol...  \n",
       "2  {'id': 'pcmcat303600050001', 'name': 'Househol...  \n",
       "3  {'id': 'pcmcat303600050001', 'name': 'Househol...  \n",
       "4  {'id': 'pcmcat303600050001', 'name': 'Househol...  "
      ]
     },
     "execution_count": 23,
     "metadata": {},
     "output_type": "execute_result"
    }
   ],
   "source": [
    "df.head(5)"
   ]
  },
  {
   "cell_type": "code",
   "execution_count": 24,
   "id": "f6354165",
   "metadata": {},
   "outputs": [],
   "source": [
    "df.iloc[:,2:] = df.iloc[:,2:].applymap(lambda x : x.get('name') )       # getting  values of key name "
   ]
  },
  {
   "cell_type": "code",
   "execution_count": 25,
   "id": "17d41e1c",
   "metadata": {},
   "outputs": [],
   "source": [
    "df['text'] = df['name'] + ' ' + df['description']                      # joining to have composite text"
   ]
  },
  {
   "cell_type": "code",
   "execution_count": 26,
   "id": "a35f8357",
   "metadata": {},
   "outputs": [
    {
     "data": {
      "text/html": [
       "<div>\n",
       "<style scoped>\n",
       "    .dataframe tbody tr th:only-of-type {\n",
       "        vertical-align: middle;\n",
       "    }\n",
       "\n",
       "    .dataframe tbody tr th {\n",
       "        vertical-align: top;\n",
       "    }\n",
       "\n",
       "    .dataframe thead th {\n",
       "        text-align: right;\n",
       "    }\n",
       "</style>\n",
       "<table border=\"1\" class=\"dataframe\">\n",
       "  <thead>\n",
       "    <tr style=\"text-align: right;\">\n",
       "      <th></th>\n",
       "      <th>name</th>\n",
       "      <th>description</th>\n",
       "      <th>level_0</th>\n",
       "      <th>level_1</th>\n",
       "      <th>level_2</th>\n",
       "      <th>text</th>\n",
       "    </tr>\n",
       "  </thead>\n",
       "  <tbody>\n",
       "    <tr>\n",
       "      <th>0</th>\n",
       "      <td>Duracell - AAA Batteries (4-Pack)</td>\n",
       "      <td>Compatible with select electronic devices; AAA...</td>\n",
       "      <td>Connected Home &amp; Housewares</td>\n",
       "      <td>Housewares</td>\n",
       "      <td>Household Batteries</td>\n",
       "      <td>Duracell - AAA Batteries (4-Pack) Compatible w...</td>\n",
       "    </tr>\n",
       "    <tr>\n",
       "      <th>1</th>\n",
       "      <td>Duracell - AA 1.5V CopperTop Batteries (4-Pack)</td>\n",
       "      <td>Long-lasting energy; DURALOCK Power Preserve t...</td>\n",
       "      <td>Connected Home &amp; Housewares</td>\n",
       "      <td>Housewares</td>\n",
       "      <td>Household Batteries</td>\n",
       "      <td>Duracell - AA 1.5V CopperTop Batteries (4-Pack...</td>\n",
       "    </tr>\n",
       "    <tr>\n",
       "      <th>2</th>\n",
       "      <td>Duracell - AA Batteries (8-Pack)</td>\n",
       "      <td>Compatible with select electronic devices; AA ...</td>\n",
       "      <td>Connected Home &amp; Housewares</td>\n",
       "      <td>Housewares</td>\n",
       "      <td>Household Batteries</td>\n",
       "      <td>Duracell - AA Batteries (8-Pack) Compatible wi...</td>\n",
       "    </tr>\n",
       "    <tr>\n",
       "      <th>3</th>\n",
       "      <td>Energizer - MAX Batteries AA (4-Pack)</td>\n",
       "      <td>4-pack AA alkaline batteries; battery tester i...</td>\n",
       "      <td>Connected Home &amp; Housewares</td>\n",
       "      <td>Housewares</td>\n",
       "      <td>Household Batteries</td>\n",
       "      <td>Energizer - MAX Batteries AA (4-Pack) 4-pack A...</td>\n",
       "    </tr>\n",
       "    <tr>\n",
       "      <th>4</th>\n",
       "      <td>Duracell - C Batteries (4-Pack)</td>\n",
       "      <td>Compatible with select electronic devices; C s...</td>\n",
       "      <td>Connected Home &amp; Housewares</td>\n",
       "      <td>Housewares</td>\n",
       "      <td>Household Batteries</td>\n",
       "      <td>Duracell - C Batteries (4-Pack) Compatible wit...</td>\n",
       "    </tr>\n",
       "    <tr>\n",
       "      <th>...</th>\n",
       "      <td>...</td>\n",
       "      <td>...</td>\n",
       "      <td>...</td>\n",
       "      <td>...</td>\n",
       "      <td>...</td>\n",
       "      <td>...</td>\n",
       "    </tr>\n",
       "    <tr>\n",
       "      <th>51641</th>\n",
       "      <td>Honeywell - True HEPA Replacement Filters for ...</td>\n",
       "      <td>Compatible with select Honeywell air purifier ...</td>\n",
       "      <td>Appliances</td>\n",
       "      <td>Appliance Parts &amp; Accessories</td>\n",
       "      <td>Air Purifier Filters &amp; Parts</td>\n",
       "      <td>Honeywell - True HEPA Replacement Filters for ...</td>\n",
       "    </tr>\n",
       "    <tr>\n",
       "      <th>51642</th>\n",
       "      <td>Dyson - Hard Floor Wipes for Dyson Hard DC56 V...</td>\n",
       "      <td>Removes dirt and grime from hard floors; cloth...</td>\n",
       "      <td>Appliances</td>\n",
       "      <td>Appliance Parts &amp; Accessories</td>\n",
       "      <td>Vacuum &amp; Floor Care Accessories</td>\n",
       "      <td>Dyson - Hard Floor Wipes for Dyson Hard DC56 V...</td>\n",
       "    </tr>\n",
       "    <tr>\n",
       "      <th>51643</th>\n",
       "      <td>Aleratec - Drive Enclosure - Internal - Black</td>\n",
       "      <td>1 x Total Bay - 1 x 2.5\" Bay</td>\n",
       "      <td>Computers &amp; Tablets</td>\n",
       "      <td>Computer Accessories &amp; Peripherals</td>\n",
       "      <td>Hard Drives &amp; Storage</td>\n",
       "      <td>Aleratec - Drive Enclosure - Internal - Black ...</td>\n",
       "    </tr>\n",
       "    <tr>\n",
       "      <th>51644</th>\n",
       "      <td>Amazon - Fire TV Stick</td>\n",
       "      <td>Streams 1080p content; dual-band, dual-antenna...</td>\n",
       "      <td>TV &amp; Home Theater</td>\n",
       "      <td>Streaming Media Players</td>\n",
       "      <td>Remote TV Streaming</td>\n",
       "      <td>Amazon - Fire TV Stick Streams 1080p content; ...</td>\n",
       "    </tr>\n",
       "    <tr>\n",
       "      <th>51645</th>\n",
       "      <td>Proctor Silex - 4-Slice Toaster Oven - White</td>\n",
       "      <td>PROCTOR SILEX 4-Slice Toaster Oven: Bake, broi...</td>\n",
       "      <td>Appliances</td>\n",
       "      <td>Small Kitchen Appliances</td>\n",
       "      <td>Toasters</td>\n",
       "      <td>Proctor Silex - 4-Slice Toaster Oven - White P...</td>\n",
       "    </tr>\n",
       "  </tbody>\n",
       "</table>\n",
       "<p>45003 rows × 6 columns</p>\n",
       "</div>"
      ],
      "text/plain": [
       "                                                    name  \\\n",
       "0                      Duracell - AAA Batteries (4-Pack)   \n",
       "1        Duracell - AA 1.5V CopperTop Batteries (4-Pack)   \n",
       "2                       Duracell - AA Batteries (8-Pack)   \n",
       "3                  Energizer - MAX Batteries AA (4-Pack)   \n",
       "4                        Duracell - C Batteries (4-Pack)   \n",
       "...                                                  ...   \n",
       "51641  Honeywell - True HEPA Replacement Filters for ...   \n",
       "51642  Dyson - Hard Floor Wipes for Dyson Hard DC56 V...   \n",
       "51643      Aleratec - Drive Enclosure - Internal - Black   \n",
       "51644                             Amazon - Fire TV Stick   \n",
       "51645       Proctor Silex - 4-Slice Toaster Oven - White   \n",
       "\n",
       "                                             description  \\\n",
       "0      Compatible with select electronic devices; AAA...   \n",
       "1      Long-lasting energy; DURALOCK Power Preserve t...   \n",
       "2      Compatible with select electronic devices; AA ...   \n",
       "3      4-pack AA alkaline batteries; battery tester i...   \n",
       "4      Compatible with select electronic devices; C s...   \n",
       "...                                                  ...   \n",
       "51641  Compatible with select Honeywell air purifier ...   \n",
       "51642  Removes dirt and grime from hard floors; cloth...   \n",
       "51643                       1 x Total Bay - 1 x 2.5\" Bay   \n",
       "51644  Streams 1080p content; dual-band, dual-antenna...   \n",
       "51645  PROCTOR SILEX 4-Slice Toaster Oven: Bake, broi...   \n",
       "\n",
       "                           level_0                             level_1  \\\n",
       "0      Connected Home & Housewares                          Housewares   \n",
       "1      Connected Home & Housewares                          Housewares   \n",
       "2      Connected Home & Housewares                          Housewares   \n",
       "3      Connected Home & Housewares                          Housewares   \n",
       "4      Connected Home & Housewares                          Housewares   \n",
       "...                            ...                                 ...   \n",
       "51641                   Appliances       Appliance Parts & Accessories   \n",
       "51642                   Appliances       Appliance Parts & Accessories   \n",
       "51643          Computers & Tablets  Computer Accessories & Peripherals   \n",
       "51644            TV & Home Theater             Streaming Media Players   \n",
       "51645                   Appliances            Small Kitchen Appliances   \n",
       "\n",
       "                               level_2  \\\n",
       "0                  Household Batteries   \n",
       "1                  Household Batteries   \n",
       "2                  Household Batteries   \n",
       "3                  Household Batteries   \n",
       "4                  Household Batteries   \n",
       "...                                ...   \n",
       "51641     Air Purifier Filters & Parts   \n",
       "51642  Vacuum & Floor Care Accessories   \n",
       "51643            Hard Drives & Storage   \n",
       "51644              Remote TV Streaming   \n",
       "51645                         Toasters   \n",
       "\n",
       "                                                    text  \n",
       "0      Duracell - AAA Batteries (4-Pack) Compatible w...  \n",
       "1      Duracell - AA 1.5V CopperTop Batteries (4-Pack...  \n",
       "2      Duracell - AA Batteries (8-Pack) Compatible wi...  \n",
       "3      Energizer - MAX Batteries AA (4-Pack) 4-pack A...  \n",
       "4      Duracell - C Batteries (4-Pack) Compatible wit...  \n",
       "...                                                  ...  \n",
       "51641  Honeywell - True HEPA Replacement Filters for ...  \n",
       "51642  Dyson - Hard Floor Wipes for Dyson Hard DC56 V...  \n",
       "51643  Aleratec - Drive Enclosure - Internal - Black ...  \n",
       "51644  Amazon - Fire TV Stick Streams 1080p content; ...  \n",
       "51645  Proctor Silex - 4-Slice Toaster Oven - White P...  \n",
       "\n",
       "[45003 rows x 6 columns]"
      ]
     },
     "execution_count": 26,
     "metadata": {},
     "output_type": "execute_result"
    }
   ],
   "source": [
    "df"
   ]
  },
  {
   "cell_type": "code",
   "execution_count": 27,
   "id": "071fbd58",
   "metadata": {},
   "outputs": [],
   "source": [
    "cols = ['level_0','level_1','level_2']\n",
    "df[cols] = df[cols].applymap(str)"
   ]
  },
  {
   "cell_type": "code",
   "execution_count": 28,
   "id": "d5a39692",
   "metadata": {},
   "outputs": [
    {
     "data": {
      "text/plain": [
       "str"
      ]
     },
     "execution_count": 28,
     "metadata": {},
     "output_type": "execute_result"
    }
   ],
   "source": [
    "type(df['level_0'][0])"
   ]
  },
  {
   "cell_type": "code",
   "execution_count": 29,
   "id": "20707907",
   "metadata": {},
   "outputs": [],
   "source": [
    "df['labels'] = df[['level_0','level_1','level_2']].apply(lambda row:[row[0],row[1],row[2]],axis = 1,result_type ='reduce')"
   ]
  },
  {
   "cell_type": "code",
   "execution_count": 30,
   "id": "e99abdd3",
   "metadata": {
    "scrolled": true
   },
   "outputs": [
    {
     "data": {
      "text/html": [
       "<div>\n",
       "<style scoped>\n",
       "    .dataframe tbody tr th:only-of-type {\n",
       "        vertical-align: middle;\n",
       "    }\n",
       "\n",
       "    .dataframe tbody tr th {\n",
       "        vertical-align: top;\n",
       "    }\n",
       "\n",
       "    .dataframe thead th {\n",
       "        text-align: right;\n",
       "    }\n",
       "</style>\n",
       "<table border=\"1\" class=\"dataframe\">\n",
       "  <thead>\n",
       "    <tr style=\"text-align: right;\">\n",
       "      <th></th>\n",
       "      <th>name</th>\n",
       "      <th>description</th>\n",
       "      <th>level_0</th>\n",
       "      <th>level_1</th>\n",
       "      <th>level_2</th>\n",
       "      <th>text</th>\n",
       "      <th>labels</th>\n",
       "    </tr>\n",
       "  </thead>\n",
       "  <tbody>\n",
       "    <tr>\n",
       "      <th>0</th>\n",
       "      <td>Duracell - AAA Batteries (4-Pack)</td>\n",
       "      <td>Compatible with select electronic devices; AAA...</td>\n",
       "      <td>Connected Home &amp; Housewares</td>\n",
       "      <td>Housewares</td>\n",
       "      <td>Household Batteries</td>\n",
       "      <td>Duracell - AAA Batteries (4-Pack) Compatible w...</td>\n",
       "      <td>[Connected Home &amp; Housewares, Housewares, Hous...</td>\n",
       "    </tr>\n",
       "    <tr>\n",
       "      <th>1</th>\n",
       "      <td>Duracell - AA 1.5V CopperTop Batteries (4-Pack)</td>\n",
       "      <td>Long-lasting energy; DURALOCK Power Preserve t...</td>\n",
       "      <td>Connected Home &amp; Housewares</td>\n",
       "      <td>Housewares</td>\n",
       "      <td>Household Batteries</td>\n",
       "      <td>Duracell - AA 1.5V CopperTop Batteries (4-Pack...</td>\n",
       "      <td>[Connected Home &amp; Housewares, Housewares, Hous...</td>\n",
       "    </tr>\n",
       "    <tr>\n",
       "      <th>2</th>\n",
       "      <td>Duracell - AA Batteries (8-Pack)</td>\n",
       "      <td>Compatible with select electronic devices; AA ...</td>\n",
       "      <td>Connected Home &amp; Housewares</td>\n",
       "      <td>Housewares</td>\n",
       "      <td>Household Batteries</td>\n",
       "      <td>Duracell - AA Batteries (8-Pack) Compatible wi...</td>\n",
       "      <td>[Connected Home &amp; Housewares, Housewares, Hous...</td>\n",
       "    </tr>\n",
       "    <tr>\n",
       "      <th>3</th>\n",
       "      <td>Energizer - MAX Batteries AA (4-Pack)</td>\n",
       "      <td>4-pack AA alkaline batteries; battery tester i...</td>\n",
       "      <td>Connected Home &amp; Housewares</td>\n",
       "      <td>Housewares</td>\n",
       "      <td>Household Batteries</td>\n",
       "      <td>Energizer - MAX Batteries AA (4-Pack) 4-pack A...</td>\n",
       "      <td>[Connected Home &amp; Housewares, Housewares, Hous...</td>\n",
       "    </tr>\n",
       "    <tr>\n",
       "      <th>4</th>\n",
       "      <td>Duracell - C Batteries (4-Pack)</td>\n",
       "      <td>Compatible with select electronic devices; C s...</td>\n",
       "      <td>Connected Home &amp; Housewares</td>\n",
       "      <td>Housewares</td>\n",
       "      <td>Household Batteries</td>\n",
       "      <td>Duracell - C Batteries (4-Pack) Compatible wit...</td>\n",
       "      <td>[Connected Home &amp; Housewares, Housewares, Hous...</td>\n",
       "    </tr>\n",
       "  </tbody>\n",
       "</table>\n",
       "</div>"
      ],
      "text/plain": [
       "                                              name  \\\n",
       "0                Duracell - AAA Batteries (4-Pack)   \n",
       "1  Duracell - AA 1.5V CopperTop Batteries (4-Pack)   \n",
       "2                 Duracell - AA Batteries (8-Pack)   \n",
       "3            Energizer - MAX Batteries AA (4-Pack)   \n",
       "4                  Duracell - C Batteries (4-Pack)   \n",
       "\n",
       "                                         description  \\\n",
       "0  Compatible with select electronic devices; AAA...   \n",
       "1  Long-lasting energy; DURALOCK Power Preserve t...   \n",
       "2  Compatible with select electronic devices; AA ...   \n",
       "3  4-pack AA alkaline batteries; battery tester i...   \n",
       "4  Compatible with select electronic devices; C s...   \n",
       "\n",
       "                       level_0     level_1              level_2  \\\n",
       "0  Connected Home & Housewares  Housewares  Household Batteries   \n",
       "1  Connected Home & Housewares  Housewares  Household Batteries   \n",
       "2  Connected Home & Housewares  Housewares  Household Batteries   \n",
       "3  Connected Home & Housewares  Housewares  Household Batteries   \n",
       "4  Connected Home & Housewares  Housewares  Household Batteries   \n",
       "\n",
       "                                                text  \\\n",
       "0  Duracell - AAA Batteries (4-Pack) Compatible w...   \n",
       "1  Duracell - AA 1.5V CopperTop Batteries (4-Pack...   \n",
       "2  Duracell - AA Batteries (8-Pack) Compatible wi...   \n",
       "3  Energizer - MAX Batteries AA (4-Pack) 4-pack A...   \n",
       "4  Duracell - C Batteries (4-Pack) Compatible wit...   \n",
       "\n",
       "                                              labels  \n",
       "0  [Connected Home & Housewares, Housewares, Hous...  \n",
       "1  [Connected Home & Housewares, Housewares, Hous...  \n",
       "2  [Connected Home & Housewares, Housewares, Hous...  \n",
       "3  [Connected Home & Housewares, Housewares, Hous...  \n",
       "4  [Connected Home & Housewares, Housewares, Hous...  "
      ]
     },
     "execution_count": 30,
     "metadata": {},
     "output_type": "execute_result"
    }
   ],
   "source": [
    "df.head(5)"
   ]
  },
  {
   "cell_type": "code",
   "execution_count": 31,
   "id": "b4c088f0",
   "metadata": {},
   "outputs": [],
   "source": [
    "from collections import Counter\n",
    "\n",
    "def clean_text(text):\n",
    "    stopwords_dict = Counter(stop_words)\n",
    "    text = ' '.join([word for word in text.split() if word not in stopwords_dict and word not in string.punctuation])\n",
    "    return text\n",
    "    \n",
    "df['description'] = df['description'].apply(clean_text)"
   ]
  },
  {
   "cell_type": "code",
   "execution_count": 32,
   "id": "20a39f1c",
   "metadata": {},
   "outputs": [],
   "source": [
    "document_length = df['text'].apply(lambda words: len(words.split(\" \")))\n",
    "max_seq_len = np.round(document_length.mean() + document_length.std()).astype(int) ## vector space size would be equal to this in text vectorizaion"
   ]
  },
  {
   "cell_type": "code",
   "execution_count": 33,
   "id": "5cd645d5",
   "metadata": {},
   "outputs": [
    {
     "data": {
      "text/plain": [
       "39"
      ]
     },
     "execution_count": 33,
     "metadata": {},
     "output_type": "execute_result"
    }
   ],
   "source": [
    "max_seq_len"
   ]
  },
  {
   "cell_type": "code",
   "execution_count": 34,
   "id": "2c6775f9",
   "metadata": {},
   "outputs": [
    {
     "data": {
      "text/plain": [
       "count    45003.000000\n",
       "mean        29.887852\n",
       "std          9.174671\n",
       "min          4.000000\n",
       "25%         23.000000\n",
       "50%         30.000000\n",
       "75%         36.000000\n",
       "max        101.000000\n",
       "Name: text, dtype: float64"
      ]
     },
     "execution_count": 34,
     "metadata": {},
     "output_type": "execute_result"
    }
   ],
   "source": [
    "document_length.describe()"
   ]
  },
  {
   "cell_type": "code",
   "execution_count": 35,
   "id": "09f98b9c",
   "metadata": {},
   "outputs": [
    {
     "data": {
      "image/png": "[encoded data removed]",
      "text/plain": [
       "<Figure size 792x576 with 1 Axes>"
      ]
     },
     "metadata": {},
     "output_type": "display_data"
    }
   ],
   "source": [
    "sns.distplot(document_length, hist=True, kde=True, color='b', label='doc len')\n",
    "plt.axvline(x=max_seq_len, color='k', linestyle='--', label='max len')\n",
    "plt.title('document length')\n",
    "plt.legend()\n",
    "plt.show()"
   ]
  },
  {
   "cell_type": "code",
   "execution_count": 36,
   "id": "2b2e1e3b",
   "metadata": {},
   "outputs": [],
   "source": [
    "def products_stats(level):\n",
    "    \"\"\"calculate products counts\n",
    "    \n",
    "    :level: dataframe column of particular level\"\"\"\n",
    "    \n",
    "    stats = pd.DataFrame(df.groupby(level).size())\n",
    "    stats.reset_index(inplace = True)\n",
    "    stats.rename(columns = {stats.columns[0] : \"products\",stats.columns[1] : \"counts\"},inplace=True)\n",
    "    stats.sort_values('counts',ascending = False)\n",
    "    \n",
    "    return stats "
   ]
  },
  {
   "cell_type": "code",
   "execution_count": 37,
   "id": "a566492a",
   "metadata": {},
   "outputs": [],
   "source": [
    "L_0 = products_stats('level_0').sort_values('counts',ascending=False)\n",
    "L_1 = products_stats('level_1').sort_values('counts',ascending=False)\n",
    "L_2 = products_stats('level_2').sort_values('counts',ascending=False)"
   ]
  },
  {
   "cell_type": "code",
   "execution_count": 38,
   "id": "efe5aca5",
   "metadata": {},
   "outputs": [],
   "source": [
    "def plot(df,title):\n",
    "    \"\"\" barplot for products vs their count\"\"\"\n",
    "    \n",
    "    sns.barplot(x = df.iloc[:,1],y = df.iloc[:,0])\n",
    "    plt.title(f\"Products counts at {title} \")\n",
    "    plt.show()"
   ]
  },
  {
   "cell_type": "code",
   "execution_count": 39,
   "id": "88ad7ac2",
   "metadata": {},
   "outputs": [
    {
     "data": {
      "image/png": "[encoded data removed]",
      "text/plain": [
       "<Figure size 792x576 with 1 Axes>"
      ]
     },
     "metadata": {},
     "output_type": "display_data"
    },
    {
     "data": {
      "image/png": "[encoded data removed]",
      "text/plain": [
       "<Figure size 792x576 with 1 Axes>"
      ]
     },
     "metadata": {},
     "output_type": "display_data"
    },
    {
     "data": {
      "image/png": "[encoded data removed]",
      "text/plain": [
       "<Figure size 792x576 with 1 Axes>"
      ]
     },
     "metadata": {},
     "output_type": "display_data"
    }
   ],
   "source": [
    "plot(L_0.head(20),\"Level_0\")\n",
    "plot(L_1.head(20),\"Level_1\")\n",
    "plot(L_2.head(20),\"Level_2\")"
   ]
  },
  {
   "cell_type": "code",
   "execution_count": 40,
   "id": "ec7a4eb0",
   "metadata": {},
   "outputs": [
    {
     "data": {
      "text/html": [
       "<div>\n",
       "<style scoped>\n",
       "    .dataframe tbody tr th:only-of-type {\n",
       "        vertical-align: middle;\n",
       "    }\n",
       "\n",
       "    .dataframe tbody tr th {\n",
       "        vertical-align: top;\n",
       "    }\n",
       "\n",
       "    .dataframe thead th {\n",
       "        text-align: right;\n",
       "    }\n",
       "</style>\n",
       "<table border=\"1\" class=\"dataframe\">\n",
       "  <thead>\n",
       "    <tr style=\"text-align: right;\">\n",
       "      <th></th>\n",
       "      <th>name</th>\n",
       "      <th>description</th>\n",
       "      <th>level_0</th>\n",
       "      <th>level_1</th>\n",
       "      <th>level_2</th>\n",
       "      <th>text</th>\n",
       "      <th>labels</th>\n",
       "    </tr>\n",
       "  </thead>\n",
       "  <tbody>\n",
       "    <tr>\n",
       "      <th>0</th>\n",
       "      <td>Duracell - AAA Batteries (4-Pack)</td>\n",
       "      <td>Compatible select electronic devices; AAA size...</td>\n",
       "      <td>Connected Home &amp; Housewares</td>\n",
       "      <td>Housewares</td>\n",
       "      <td>Household Batteries</td>\n",
       "      <td>Duracell - AAA Batteries (4-Pack) Compatible w...</td>\n",
       "      <td>[Connected Home &amp; Housewares, Housewares, Hous...</td>\n",
       "    </tr>\n",
       "    <tr>\n",
       "      <th>1</th>\n",
       "      <td>Duracell - AA 1.5V CopperTop Batteries (4-Pack)</td>\n",
       "      <td>Long-lasting energy; DURALOCK Power Preserve t...</td>\n",
       "      <td>Connected Home &amp; Housewares</td>\n",
       "      <td>Housewares</td>\n",
       "      <td>Household Batteries</td>\n",
       "      <td>Duracell - AA 1.5V CopperTop Batteries (4-Pack...</td>\n",
       "      <td>[Connected Home &amp; Housewares, Housewares, Hous...</td>\n",
       "    </tr>\n",
       "  </tbody>\n",
       "</table>\n",
       "</div>"
      ],
      "text/plain": [
       "                                              name  \\\n",
       "0                Duracell - AAA Batteries (4-Pack)   \n",
       "1  Duracell - AA 1.5V CopperTop Batteries (4-Pack)   \n",
       "\n",
       "                                         description  \\\n",
       "0  Compatible select electronic devices; AAA size...   \n",
       "1  Long-lasting energy; DURALOCK Power Preserve t...   \n",
       "\n",
       "                       level_0     level_1              level_2  \\\n",
       "0  Connected Home & Housewares  Housewares  Household Batteries   \n",
       "1  Connected Home & Housewares  Housewares  Household Batteries   \n",
       "\n",
       "                                                text  \\\n",
       "0  Duracell - AAA Batteries (4-Pack) Compatible w...   \n",
       "1  Duracell - AA 1.5V CopperTop Batteries (4-Pack...   \n",
       "\n",
       "                                              labels  \n",
       "0  [Connected Home & Housewares, Housewares, Hous...  \n",
       "1  [Connected Home & Housewares, Housewares, Hous...  "
      ]
     },
     "execution_count": 40,
     "metadata": {},
     "output_type": "execute_result"
    }
   ],
   "source": [
    "df.head(2)"
   ]
  },
  {
   "cell_type": "code",
   "execution_count": 41,
   "id": "a684c40b",
   "metadata": {},
   "outputs": [],
   "source": [
    "def words_frequency(level):\n",
    "    \n",
    "    product_groups = df.groupby(level)\n",
    "    group_keys = product_groups.groups.keys()\n",
    "    for gps in group_keys:\n",
    "        words_dict = product_groups.get_group(gps).description.apply(lambda x : pd.value_counts(x.split(\" \"))).sum(axis = 0)\n",
    "        data= pd.DataFrame({\n",
    "               'words' : words_dict.keys(),\n",
    "               'counts' : words_dict.values\n",
    "                }).sort_values('counts',ascending=False)\n",
    "        \n",
    "        yield plot(data.head(20),gps)"
   ]
  },
  {
   "cell_type": "code",
   "execution_count": 42,
   "id": "cf58dfbc",
   "metadata": {},
   "outputs": [],
   "source": [
    "level_0_generator=words_frequency('level_0')"
   ]
  },
  {
   "cell_type": "code",
   "execution_count": 43,
   "id": "8a1bd9d6",
   "metadata": {},
   "outputs": [
    {
     "data": {
      "image/png": "[encoded data removed]",
      "text/plain": [
       "<Figure size 792x576 with 1 Axes>"
      ]
     },
     "metadata": {},
     "output_type": "display_data"
    }
   ],
   "source": [
    "next(level_0_generator)"
   ]
  },
  {
   "cell_type": "code",
   "execution_count": 44,
   "id": "f7d1a68a",
   "metadata": {},
   "outputs": [],
   "source": [
    "level_1_generator=words_frequency('level_1')"
   ]
  },
  {
   "cell_type": "code",
   "execution_count": 72,
   "id": "e9d1c7c9",
   "metadata": {},
   "outputs": [
    {
     "data": {
      "image/png": "[encoded data removed]",
      "text/plain": [
       "<Figure size 792x576 with 1 Axes>"
      ]
     },
     "metadata": {},
     "output_type": "display_data"
    }
   ],
   "source": [
    "next(level_1_generator)"
   ]
  },
  {
   "cell_type": "code",
   "execution_count": 46,
   "id": "e147eec1",
   "metadata": {},
   "outputs": [
    {
     "data": {
      "text/html": [
       "<div>\n",
       "<style scoped>\n",
       "    .dataframe tbody tr th:only-of-type {\n",
       "        vertical-align: middle;\n",
       "    }\n",
       "\n",
       "    .dataframe tbody tr th {\n",
       "        vertical-align: top;\n",
       "    }\n",
       "\n",
       "    .dataframe thead th {\n",
       "        text-align: right;\n",
       "    }\n",
       "</style>\n",
       "<table border=\"1\" class=\"dataframe\">\n",
       "  <thead>\n",
       "    <tr style=\"text-align: right;\">\n",
       "      <th></th>\n",
       "      <th>name</th>\n",
       "      <th>description</th>\n",
       "      <th>level_0</th>\n",
       "      <th>level_1</th>\n",
       "      <th>level_2</th>\n",
       "      <th>text</th>\n",
       "      <th>labels</th>\n",
       "    </tr>\n",
       "  </thead>\n",
       "  <tbody>\n",
       "    <tr>\n",
       "      <th>0</th>\n",
       "      <td>Duracell - AAA Batteries (4-Pack)</td>\n",
       "      <td>Compatible select electronic devices; AAA size...</td>\n",
       "      <td>Connected Home &amp; Housewares</td>\n",
       "      <td>Housewares</td>\n",
       "      <td>Household Batteries</td>\n",
       "      <td>Duracell - AAA Batteries (4-Pack) Compatible w...</td>\n",
       "      <td>[Connected Home &amp; Housewares, Housewares, Hous...</td>\n",
       "    </tr>\n",
       "    <tr>\n",
       "      <th>1</th>\n",
       "      <td>Duracell - AA 1.5V CopperTop Batteries (4-Pack)</td>\n",
       "      <td>Long-lasting energy; DURALOCK Power Preserve t...</td>\n",
       "      <td>Connected Home &amp; Housewares</td>\n",
       "      <td>Housewares</td>\n",
       "      <td>Household Batteries</td>\n",
       "      <td>Duracell - AA 1.5V CopperTop Batteries (4-Pack...</td>\n",
       "      <td>[Connected Home &amp; Housewares, Housewares, Hous...</td>\n",
       "    </tr>\n",
       "    <tr>\n",
       "      <th>2</th>\n",
       "      <td>Duracell - AA Batteries (8-Pack)</td>\n",
       "      <td>Compatible select electronic devices; AA size;...</td>\n",
       "      <td>Connected Home &amp; Housewares</td>\n",
       "      <td>Housewares</td>\n",
       "      <td>Household Batteries</td>\n",
       "      <td>Duracell - AA Batteries (8-Pack) Compatible wi...</td>\n",
       "      <td>[Connected Home &amp; Housewares, Housewares, Hous...</td>\n",
       "    </tr>\n",
       "    <tr>\n",
       "      <th>3</th>\n",
       "      <td>Energizer - MAX Batteries AA (4-Pack)</td>\n",
       "      <td>4-pack AA alkaline batteries; battery tester i...</td>\n",
       "      <td>Connected Home &amp; Housewares</td>\n",
       "      <td>Housewares</td>\n",
       "      <td>Household Batteries</td>\n",
       "      <td>Energizer - MAX Batteries AA (4-Pack) 4-pack A...</td>\n",
       "      <td>[Connected Home &amp; Housewares, Housewares, Hous...</td>\n",
       "    </tr>\n",
       "    <tr>\n",
       "      <th>4</th>\n",
       "      <td>Duracell - C Batteries (4-Pack)</td>\n",
       "      <td>Compatible select electronic devices; C size; ...</td>\n",
       "      <td>Connected Home &amp; Housewares</td>\n",
       "      <td>Housewares</td>\n",
       "      <td>Household Batteries</td>\n",
       "      <td>Duracell - C Batteries (4-Pack) Compatible wit...</td>\n",
       "      <td>[Connected Home &amp; Housewares, Housewares, Hous...</td>\n",
       "    </tr>\n",
       "    <tr>\n",
       "      <th>...</th>\n",
       "      <td>...</td>\n",
       "      <td>...</td>\n",
       "      <td>...</td>\n",
       "      <td>...</td>\n",
       "      <td>...</td>\n",
       "      <td>...</td>\n",
       "      <td>...</td>\n",
       "    </tr>\n",
       "    <tr>\n",
       "      <th>51641</th>\n",
       "      <td>Honeywell - True HEPA Replacement Filters for ...</td>\n",
       "      <td>Compatible select Honeywell air purifier model...</td>\n",
       "      <td>Appliances</td>\n",
       "      <td>Appliance Parts &amp; Accessories</td>\n",
       "      <td>Air Purifier Filters &amp; Parts</td>\n",
       "      <td>Honeywell - True HEPA Replacement Filters for ...</td>\n",
       "      <td>[Appliances, Appliance Parts &amp; Accessories, Ai...</td>\n",
       "    </tr>\n",
       "    <tr>\n",
       "      <th>51642</th>\n",
       "      <td>Dyson - Hard Floor Wipes for Dyson Hard DC56 V...</td>\n",
       "      <td>Removes dirt grime hard floors; cloth material...</td>\n",
       "      <td>Appliances</td>\n",
       "      <td>Appliance Parts &amp; Accessories</td>\n",
       "      <td>Vacuum &amp; Floor Care Accessories</td>\n",
       "      <td>Dyson - Hard Floor Wipes for Dyson Hard DC56 V...</td>\n",
       "      <td>[Appliances, Appliance Parts &amp; Accessories, Va...</td>\n",
       "    </tr>\n",
       "    <tr>\n",
       "      <th>51643</th>\n",
       "      <td>Aleratec - Drive Enclosure - Internal - Black</td>\n",
       "      <td>1 x Total Bay 1 x 2.5\" Bay</td>\n",
       "      <td>Computers &amp; Tablets</td>\n",
       "      <td>Computer Accessories &amp; Peripherals</td>\n",
       "      <td>Hard Drives &amp; Storage</td>\n",
       "      <td>Aleratec - Drive Enclosure - Internal - Black ...</td>\n",
       "      <td>[Computers &amp; Tablets, Computer Accessories &amp; P...</td>\n",
       "    </tr>\n",
       "    <tr>\n",
       "      <th>51644</th>\n",
       "      <td>Amazon - Fire TV Stick</td>\n",
       "      <td>Streams 1080p content; dual-band, dual-antenna...</td>\n",
       "      <td>TV &amp; Home Theater</td>\n",
       "      <td>Streaming Media Players</td>\n",
       "      <td>Remote TV Streaming</td>\n",
       "      <td>Amazon - Fire TV Stick Streams 1080p content; ...</td>\n",
       "      <td>[TV &amp; Home Theater, Streaming Media Players, R...</td>\n",
       "    </tr>\n",
       "    <tr>\n",
       "      <th>51645</th>\n",
       "      <td>Proctor Silex - 4-Slice Toaster Oven - White</td>\n",
       "      <td>PROCTOR SILEX 4-Slice Toaster Oven: Bake, broi...</td>\n",
       "      <td>Appliances</td>\n",
       "      <td>Small Kitchen Appliances</td>\n",
       "      <td>Toasters</td>\n",
       "      <td>Proctor Silex - 4-Slice Toaster Oven - White P...</td>\n",
       "      <td>[Appliances, Small Kitchen Appliances, Toasters]</td>\n",
       "    </tr>\n",
       "  </tbody>\n",
       "</table>\n",
       "<p>45003 rows × 7 columns</p>\n",
       "</div>"
      ],
      "text/plain": [
       "                                                    name  \\\n",
       "0                      Duracell - AAA Batteries (4-Pack)   \n",
       "1        Duracell - AA 1.5V CopperTop Batteries (4-Pack)   \n",
       "2                       Duracell - AA Batteries (8-Pack)   \n",
       "3                  Energizer - MAX Batteries AA (4-Pack)   \n",
       "4                        Duracell - C Batteries (4-Pack)   \n",
       "...                                                  ...   \n",
       "51641  Honeywell - True HEPA Replacement Filters for ...   \n",
       "51642  Dyson - Hard Floor Wipes for Dyson Hard DC56 V...   \n",
       "51643      Aleratec - Drive Enclosure - Internal - Black   \n",
       "51644                             Amazon - Fire TV Stick   \n",
       "51645       Proctor Silex - 4-Slice Toaster Oven - White   \n",
       "\n",
       "                                             description  \\\n",
       "0      Compatible select electronic devices; AAA size...   \n",
       "1      Long-lasting energy; DURALOCK Power Preserve t...   \n",
       "2      Compatible select electronic devices; AA size;...   \n",
       "3      4-pack AA alkaline batteries; battery tester i...   \n",
       "4      Compatible select electronic devices; C size; ...   \n",
       "...                                                  ...   \n",
       "51641  Compatible select Honeywell air purifier model...   \n",
       "51642  Removes dirt grime hard floors; cloth material...   \n",
       "51643                         1 x Total Bay 1 x 2.5\" Bay   \n",
       "51644  Streams 1080p content; dual-band, dual-antenna...   \n",
       "51645  PROCTOR SILEX 4-Slice Toaster Oven: Bake, broi...   \n",
       "\n",
       "                           level_0                             level_1  \\\n",
       "0      Connected Home & Housewares                          Housewares   \n",
       "1      Connected Home & Housewares                          Housewares   \n",
       "2      Connected Home & Housewares                          Housewares   \n",
       "3      Connected Home & Housewares                          Housewares   \n",
       "4      Connected Home & Housewares                          Housewares   \n",
       "...                            ...                                 ...   \n",
       "51641                   Appliances       Appliance Parts & Accessories   \n",
       "51642                   Appliances       Appliance Parts & Accessories   \n",
       "51643          Computers & Tablets  Computer Accessories & Peripherals   \n",
       "51644            TV & Home Theater             Streaming Media Players   \n",
       "51645                   Appliances            Small Kitchen Appliances   \n",
       "\n",
       "                               level_2  \\\n",
       "0                  Household Batteries   \n",
       "1                  Household Batteries   \n",
       "2                  Household Batteries   \n",
       "3                  Household Batteries   \n",
       "4                  Household Batteries   \n",
       "...                                ...   \n",
       "51641     Air Purifier Filters & Parts   \n",
       "51642  Vacuum & Floor Care Accessories   \n",
       "51643            Hard Drives & Storage   \n",
       "51644              Remote TV Streaming   \n",
       "51645                         Toasters   \n",
       "\n",
       "                                                    text  \\\n",
       "0      Duracell - AAA Batteries (4-Pack) Compatible w...   \n",
       "1      Duracell - AA 1.5V CopperTop Batteries (4-Pack...   \n",
       "2      Duracell - AA Batteries (8-Pack) Compatible wi...   \n",
       "3      Energizer - MAX Batteries AA (4-Pack) 4-pack A...   \n",
       "4      Duracell - C Batteries (4-Pack) Compatible wit...   \n",
       "...                                                  ...   \n",
       "51641  Honeywell - True HEPA Replacement Filters for ...   \n",
       "51642  Dyson - Hard Floor Wipes for Dyson Hard DC56 V...   \n",
       "51643  Aleratec - Drive Enclosure - Internal - Black ...   \n",
       "51644  Amazon - Fire TV Stick Streams 1080p content; ...   \n",
       "51645  Proctor Silex - 4-Slice Toaster Oven - White P...   \n",
       "\n",
       "                                                  labels  \n",
       "0      [Connected Home & Housewares, Housewares, Hous...  \n",
       "1      [Connected Home & Housewares, Housewares, Hous...  \n",
       "2      [Connected Home & Housewares, Housewares, Hous...  \n",
       "3      [Connected Home & Housewares, Housewares, Hous...  \n",
       "4      [Connected Home & Housewares, Housewares, Hous...  \n",
       "...                                                  ...  \n",
       "51641  [Appliances, Appliance Parts & Accessories, Ai...  \n",
       "51642  [Appliances, Appliance Parts & Accessories, Va...  \n",
       "51643  [Computers & Tablets, Computer Accessories & P...  \n",
       "51644  [TV & Home Theater, Streaming Media Players, R...  \n",
       "51645   [Appliances, Small Kitchen Appliances, Toasters]  \n",
       "\n",
       "[45003 rows x 7 columns]"
      ]
     },
     "execution_count": 46,
     "metadata": {},
     "output_type": "execute_result"
    }
   ],
   "source": [
    "df"
   ]
  },
  {
   "cell_type": "code",
   "execution_count": 47,
   "id": "459a4e4e",
   "metadata": {},
   "outputs": [
    {
     "data": {
      "text/plain": [
       "False"
      ]
     },
     "execution_count": 47,
     "metadata": {},
     "output_type": "execute_result"
    }
   ],
   "source": [
    "any(x in df.level_0 for x in df.level_1.unique())"
   ]
  },
  {
   "cell_type": "code",
   "execution_count": 48,
   "id": "878a5064",
   "metadata": {},
   "outputs": [
    {
     "data": {
      "text/plain": [
       "False"
      ]
     },
     "execution_count": 48,
     "metadata": {},
     "output_type": "execute_result"
    }
   ],
   "source": [
    "any(x in df.level_0 for x in df.level_2.unique())"
   ]
  },
  {
   "cell_type": "code",
   "execution_count": 49,
   "id": "789e526b",
   "metadata": {},
   "outputs": [
    {
     "data": {
      "text/plain": [
       "False"
      ]
     },
     "execution_count": 49,
     "metadata": {},
     "output_type": "execute_result"
    }
   ],
   "source": [
    "any(x in df.level_1 for x in df.level_2.unique())"
   ]
  },
  {
   "cell_type": "code",
   "execution_count": 50,
   "id": "276ee922",
   "metadata": {},
   "outputs": [
    {
     "data": {
      "text/plain": [
       "[Cell Phones, Cell Phone Accessories, iPhone Accessories]                                      2079\n",
       "[Cell Phones, Cell Phone Accessories, Cell Phone Cases & Clips]                                1847\n",
       "[Car Electronics & GPS, Car Installation Parts & Accessories, Car Audio Installation Parts]    1351\n",
       "[Connected Home & Housewares, Office & School Supplies, Printer Ink & Toner]                   1091\n",
       "[Computers & Tablets, Computer Accessories & Peripherals, Laptop Accessories]                   845\n",
       "                                                                                               ... \n",
       "[Toys, Games & Drones, Kids' Electronics, Kids' Cameras]                                          1\n",
       "[Cameras & Camcorders, Memory Cards, Memory Card Cases]                                           1\n",
       "[Health, Fitness & Beauty, Strength & Weight Training, Resistance Bands]                          1\n",
       "[Name Brands, Sony, Sony Cameras & Camcorders]                                                    1\n",
       "[Video Games, PS Vita, PS Vita Consoles]                                                          1\n",
       "Name: labels, Length: 630, dtype: int64"
      ]
     },
     "execution_count": 50,
     "metadata": {},
     "output_type": "execute_result"
    }
   ],
   "source": [
    "df['labels'].value_counts()"
   ]
  },
  {
   "cell_type": "code",
   "execution_count": 51,
   "id": "8705d5d5",
   "metadata": {},
   "outputs": [
    {
     "data": {
      "text/html": [
       "<div>\n",
       "<style scoped>\n",
       "    .dataframe tbody tr th:only-of-type {\n",
       "        vertical-align: middle;\n",
       "    }\n",
       "\n",
       "    .dataframe tbody tr th {\n",
       "        vertical-align: top;\n",
       "    }\n",
       "\n",
       "    .dataframe thead th {\n",
       "        text-align: right;\n",
       "    }\n",
       "</style>\n",
       "<table border=\"1\" class=\"dataframe\">\n",
       "  <thead>\n",
       "    <tr style=\"text-align: right;\">\n",
       "      <th></th>\n",
       "      <th>name</th>\n",
       "      <th>description</th>\n",
       "      <th>level_0</th>\n",
       "      <th>level_1</th>\n",
       "      <th>level_2</th>\n",
       "      <th>text</th>\n",
       "      <th>labels</th>\n",
       "    </tr>\n",
       "  </thead>\n",
       "  <tbody>\n",
       "    <tr>\n",
       "      <th>0</th>\n",
       "      <td>Duracell - AAA Batteries (4-Pack)</td>\n",
       "      <td>Compatible select electronic devices; AAA size...</td>\n",
       "      <td>Connected Home &amp; Housewares</td>\n",
       "      <td>Housewares</td>\n",
       "      <td>Household Batteries</td>\n",
       "      <td>Duracell - AAA Batteries (4-Pack) Compatible w...</td>\n",
       "      <td>[Connected Home &amp; Housewares, Housewares, Hous...</td>\n",
       "    </tr>\n",
       "    <tr>\n",
       "      <th>1</th>\n",
       "      <td>Duracell - AA 1.5V CopperTop Batteries (4-Pack)</td>\n",
       "      <td>Long-lasting energy; DURALOCK Power Preserve t...</td>\n",
       "      <td>Connected Home &amp; Housewares</td>\n",
       "      <td>Housewares</td>\n",
       "      <td>Household Batteries</td>\n",
       "      <td>Duracell - AA 1.5V CopperTop Batteries (4-Pack...</td>\n",
       "      <td>[Connected Home &amp; Housewares, Housewares, Hous...</td>\n",
       "    </tr>\n",
       "    <tr>\n",
       "      <th>2</th>\n",
       "      <td>Duracell - AA Batteries (8-Pack)</td>\n",
       "      <td>Compatible select electronic devices; AA size;...</td>\n",
       "      <td>Connected Home &amp; Housewares</td>\n",
       "      <td>Housewares</td>\n",
       "      <td>Household Batteries</td>\n",
       "      <td>Duracell - AA Batteries (8-Pack) Compatible wi...</td>\n",
       "      <td>[Connected Home &amp; Housewares, Housewares, Hous...</td>\n",
       "    </tr>\n",
       "    <tr>\n",
       "      <th>3</th>\n",
       "      <td>Energizer - MAX Batteries AA (4-Pack)</td>\n",
       "      <td>4-pack AA alkaline batteries; battery tester i...</td>\n",
       "      <td>Connected Home &amp; Housewares</td>\n",
       "      <td>Housewares</td>\n",
       "      <td>Household Batteries</td>\n",
       "      <td>Energizer - MAX Batteries AA (4-Pack) 4-pack A...</td>\n",
       "      <td>[Connected Home &amp; Housewares, Housewares, Hous...</td>\n",
       "    </tr>\n",
       "    <tr>\n",
       "      <th>4</th>\n",
       "      <td>Duracell - C Batteries (4-Pack)</td>\n",
       "      <td>Compatible select electronic devices; C size; ...</td>\n",
       "      <td>Connected Home &amp; Housewares</td>\n",
       "      <td>Housewares</td>\n",
       "      <td>Household Batteries</td>\n",
       "      <td>Duracell - C Batteries (4-Pack) Compatible wit...</td>\n",
       "      <td>[Connected Home &amp; Housewares, Housewares, Hous...</td>\n",
       "    </tr>\n",
       "    <tr>\n",
       "      <th>...</th>\n",
       "      <td>...</td>\n",
       "      <td>...</td>\n",
       "      <td>...</td>\n",
       "      <td>...</td>\n",
       "      <td>...</td>\n",
       "      <td>...</td>\n",
       "      <td>...</td>\n",
       "    </tr>\n",
       "    <tr>\n",
       "      <th>51641</th>\n",
       "      <td>Honeywell - True HEPA Replacement Filters for ...</td>\n",
       "      <td>Compatible select Honeywell air purifier model...</td>\n",
       "      <td>Appliances</td>\n",
       "      <td>Appliance Parts &amp; Accessories</td>\n",
       "      <td>Air Purifier Filters &amp; Parts</td>\n",
       "      <td>Honeywell - True HEPA Replacement Filters for ...</td>\n",
       "      <td>[Appliances, Appliance Parts &amp; Accessories, Ai...</td>\n",
       "    </tr>\n",
       "    <tr>\n",
       "      <th>51642</th>\n",
       "      <td>Dyson - Hard Floor Wipes for Dyson Hard DC56 V...</td>\n",
       "      <td>Removes dirt grime hard floors; cloth material...</td>\n",
       "      <td>Appliances</td>\n",
       "      <td>Appliance Parts &amp; Accessories</td>\n",
       "      <td>Vacuum &amp; Floor Care Accessories</td>\n",
       "      <td>Dyson - Hard Floor Wipes for Dyson Hard DC56 V...</td>\n",
       "      <td>[Appliances, Appliance Parts &amp; Accessories, Va...</td>\n",
       "    </tr>\n",
       "    <tr>\n",
       "      <th>51643</th>\n",
       "      <td>Aleratec - Drive Enclosure - Internal - Black</td>\n",
       "      <td>1 x Total Bay 1 x 2.5\" Bay</td>\n",
       "      <td>Computers &amp; Tablets</td>\n",
       "      <td>Computer Accessories &amp; Peripherals</td>\n",
       "      <td>Hard Drives &amp; Storage</td>\n",
       "      <td>Aleratec - Drive Enclosure - Internal - Black ...</td>\n",
       "      <td>[Computers &amp; Tablets, Computer Accessories &amp; P...</td>\n",
       "    </tr>\n",
       "    <tr>\n",
       "      <th>51644</th>\n",
       "      <td>Amazon - Fire TV Stick</td>\n",
       "      <td>Streams 1080p content; dual-band, dual-antenna...</td>\n",
       "      <td>TV &amp; Home Theater</td>\n",
       "      <td>Streaming Media Players</td>\n",
       "      <td>Remote TV Streaming</td>\n",
       "      <td>Amazon - Fire TV Stick Streams 1080p content; ...</td>\n",
       "      <td>[TV &amp; Home Theater, Streaming Media Players, R...</td>\n",
       "    </tr>\n",
       "    <tr>\n",
       "      <th>51645</th>\n",
       "      <td>Proctor Silex - 4-Slice Toaster Oven - White</td>\n",
       "      <td>PROCTOR SILEX 4-Slice Toaster Oven: Bake, broi...</td>\n",
       "      <td>Appliances</td>\n",
       "      <td>Small Kitchen Appliances</td>\n",
       "      <td>Toasters</td>\n",
       "      <td>Proctor Silex - 4-Slice Toaster Oven - White P...</td>\n",
       "      <td>[Appliances, Small Kitchen Appliances, Toasters]</td>\n",
       "    </tr>\n",
       "  </tbody>\n",
       "</table>\n",
       "<p>45003 rows × 7 columns</p>\n",
       "</div>"
      ],
      "text/plain": [
       "                                                    name  \\\n",
       "0                      Duracell - AAA Batteries (4-Pack)   \n",
       "1        Duracell - AA 1.5V CopperTop Batteries (4-Pack)   \n",
       "2                       Duracell - AA Batteries (8-Pack)   \n",
       "3                  Energizer - MAX Batteries AA (4-Pack)   \n",
       "4                        Duracell - C Batteries (4-Pack)   \n",
       "...                                                  ...   \n",
       "51641  Honeywell - True HEPA Replacement Filters for ...   \n",
       "51642  Dyson - Hard Floor Wipes for Dyson Hard DC56 V...   \n",
       "51643      Aleratec - Drive Enclosure - Internal - Black   \n",
       "51644                             Amazon - Fire TV Stick   \n",
       "51645       Proctor Silex - 4-Slice Toaster Oven - White   \n",
       "\n",
       "                                             description  \\\n",
       "0      Compatible select electronic devices; AAA size...   \n",
       "1      Long-lasting energy; DURALOCK Power Preserve t...   \n",
       "2      Compatible select electronic devices; AA size;...   \n",
       "3      4-pack AA alkaline batteries; battery tester i...   \n",
       "4      Compatible select electronic devices; C size; ...   \n",
       "...                                                  ...   \n",
       "51641  Compatible select Honeywell air purifier model...   \n",
       "51642  Removes dirt grime hard floors; cloth material...   \n",
       "51643                         1 x Total Bay 1 x 2.5\" Bay   \n",
       "51644  Streams 1080p content; dual-band, dual-antenna...   \n",
       "51645  PROCTOR SILEX 4-Slice Toaster Oven: Bake, broi...   \n",
       "\n",
       "                           level_0                             level_1  \\\n",
       "0      Connected Home & Housewares                          Housewares   \n",
       "1      Connected Home & Housewares                          Housewares   \n",
       "2      Connected Home & Housewares                          Housewares   \n",
       "3      Connected Home & Housewares                          Housewares   \n",
       "4      Connected Home & Housewares                          Housewares   \n",
       "...                            ...                                 ...   \n",
       "51641                   Appliances       Appliance Parts & Accessories   \n",
       "51642                   Appliances       Appliance Parts & Accessories   \n",
       "51643          Computers & Tablets  Computer Accessories & Peripherals   \n",
       "51644            TV & Home Theater             Streaming Media Players   \n",
       "51645                   Appliances            Small Kitchen Appliances   \n",
       "\n",
       "                               level_2  \\\n",
       "0                  Household Batteries   \n",
       "1                  Household Batteries   \n",
       "2                  Household Batteries   \n",
       "3                  Household Batteries   \n",
       "4                  Household Batteries   \n",
       "...                                ...   \n",
       "51641     Air Purifier Filters & Parts   \n",
       "51642  Vacuum & Floor Care Accessories   \n",
       "51643            Hard Drives & Storage   \n",
       "51644              Remote TV Streaming   \n",
       "51645                         Toasters   \n",
       "\n",
       "                                                    text  \\\n",
       "0      Duracell - AAA Batteries (4-Pack) Compatible w...   \n",
       "1      Duracell - AA 1.5V CopperTop Batteries (4-Pack...   \n",
       "2      Duracell - AA Batteries (8-Pack) Compatible wi...   \n",
       "3      Energizer - MAX Batteries AA (4-Pack) 4-pack A...   \n",
       "4      Duracell - C Batteries (4-Pack) Compatible wit...   \n",
       "...                                                  ...   \n",
       "51641  Honeywell - True HEPA Replacement Filters for ...   \n",
       "51642  Dyson - Hard Floor Wipes for Dyson Hard DC56 V...   \n",
       "51643  Aleratec - Drive Enclosure - Internal - Black ...   \n",
       "51644  Amazon - Fire TV Stick Streams 1080p content; ...   \n",
       "51645  Proctor Silex - 4-Slice Toaster Oven - White P...   \n",
       "\n",
       "                                                  labels  \n",
       "0      [Connected Home & Housewares, Housewares, Hous...  \n",
       "1      [Connected Home & Housewares, Housewares, Hous...  \n",
       "2      [Connected Home & Housewares, Housewares, Hous...  \n",
       "3      [Connected Home & Housewares, Housewares, Hous...  \n",
       "4      [Connected Home & Housewares, Housewares, Hous...  \n",
       "...                                                  ...  \n",
       "51641  [Appliances, Appliance Parts & Accessories, Ai...  \n",
       "51642  [Appliances, Appliance Parts & Accessories, Va...  \n",
       "51643  [Computers & Tablets, Computer Accessories & P...  \n",
       "51644  [TV & Home Theater, Streaming Media Players, R...  \n",
       "51645   [Appliances, Small Kitchen Appliances, Toasters]  \n",
       "\n",
       "[45003 rows x 7 columns]"
      ]
     },
     "execution_count": 51,
     "metadata": {},
     "output_type": "execute_result"
    }
   ],
   "source": [
    "df"
   ]
  },
  {
   "cell_type": "code",
   "execution_count": 52,
   "id": "68c805ea",
   "metadata": {},
   "outputs": [],
   "source": [
    "dataset=df.loc[:,['text','labels']]"
   ]
  },
  {
   "cell_type": "code",
   "execution_count": 53,
   "id": "eba52e2e",
   "metadata": {},
   "outputs": [
    {
     "data": {
      "text/html": [
       "<div>\n",
       "<style scoped>\n",
       "    .dataframe tbody tr th:only-of-type {\n",
       "        vertical-align: middle;\n",
       "    }\n",
       "\n",
       "    .dataframe tbody tr th {\n",
       "        vertical-align: top;\n",
       "    }\n",
       "\n",
       "    .dataframe thead th {\n",
       "        text-align: right;\n",
       "    }\n",
       "</style>\n",
       "<table border=\"1\" class=\"dataframe\">\n",
       "  <thead>\n",
       "    <tr style=\"text-align: right;\">\n",
       "      <th></th>\n",
       "      <th>text</th>\n",
       "      <th>labels</th>\n",
       "    </tr>\n",
       "  </thead>\n",
       "  <tbody>\n",
       "    <tr>\n",
       "      <th>0</th>\n",
       "      <td>Duracell - AAA Batteries (4-Pack) Compatible w...</td>\n",
       "      <td>[Connected Home &amp; Housewares, Housewares, Hous...</td>\n",
       "    </tr>\n",
       "    <tr>\n",
       "      <th>1</th>\n",
       "      <td>Duracell - AA 1.5V CopperTop Batteries (4-Pack...</td>\n",
       "      <td>[Connected Home &amp; Housewares, Housewares, Hous...</td>\n",
       "    </tr>\n",
       "    <tr>\n",
       "      <th>2</th>\n",
       "      <td>Duracell - AA Batteries (8-Pack) Compatible wi...</td>\n",
       "      <td>[Connected Home &amp; Housewares, Housewares, Hous...</td>\n",
       "    </tr>\n",
       "    <tr>\n",
       "      <th>3</th>\n",
       "      <td>Energizer - MAX Batteries AA (4-Pack) 4-pack A...</td>\n",
       "      <td>[Connected Home &amp; Housewares, Housewares, Hous...</td>\n",
       "    </tr>\n",
       "    <tr>\n",
       "      <th>4</th>\n",
       "      <td>Duracell - C Batteries (4-Pack) Compatible wit...</td>\n",
       "      <td>[Connected Home &amp; Housewares, Housewares, Hous...</td>\n",
       "    </tr>\n",
       "  </tbody>\n",
       "</table>\n",
       "</div>"
      ],
      "text/plain": [
       "                                                text  \\\n",
       "0  Duracell - AAA Batteries (4-Pack) Compatible w...   \n",
       "1  Duracell - AA 1.5V CopperTop Batteries (4-Pack...   \n",
       "2  Duracell - AA Batteries (8-Pack) Compatible wi...   \n",
       "3  Energizer - MAX Batteries AA (4-Pack) 4-pack A...   \n",
       "4  Duracell - C Batteries (4-Pack) Compatible wit...   \n",
       "\n",
       "                                              labels  \n",
       "0  [Connected Home & Housewares, Housewares, Hous...  \n",
       "1  [Connected Home & Housewares, Housewares, Hous...  \n",
       "2  [Connected Home & Housewares, Housewares, Hous...  \n",
       "3  [Connected Home & Housewares, Housewares, Hous...  \n",
       "4  [Connected Home & Housewares, Housewares, Hous...  "
      ]
     },
     "execution_count": 53,
     "metadata": {},
     "output_type": "execute_result"
    }
   ],
   "source": [
    "dataset.head()"
   ]
  },
  {
   "cell_type": "code",
   "execution_count": 54,
   "id": "2dad1983",
   "metadata": {},
   "outputs": [],
   "source": [
    "dataset.to_csv('./datasets/data.csv',index=False)"
   ]
  },
  {
   "cell_type": "code",
   "execution_count": 55,
   "id": "a0acf3eb",
   "metadata": {},
   "outputs": [],
   "source": [
    "df = pd.read_csv('./datasets/data.csv')"
   ]
  },
  {
   "cell_type": "code",
   "execution_count": 56,
   "id": "9ecadfdd",
   "metadata": {},
   "outputs": [
    {
     "data": {
      "text/plain": [
       "['Cell Phones', 'Cell Phone Accessories', 'iPhone Accessories']                                      2079\n",
       "['Cell Phones', 'Cell Phone Accessories', 'Cell Phone Cases & Clips']                                1847\n",
       "['Car Electronics & GPS', 'Car Installation Parts & Accessories', 'Car Audio Installation Parts']    1351\n",
       "['Connected Home & Housewares', 'Office & School Supplies', 'Printer Ink & Toner']                   1091\n",
       "['Computers & Tablets', 'Computer Accessories & Peripherals', 'Laptop Accessories']                   845\n",
       "                                                                                                     ... \n",
       "['Toys, Games & Drones', \"Kids' Electronics\", \"Kids' Cameras\"]                                          1\n",
       "['Cameras & Camcorders', 'Memory Cards', 'Memory Card Cases']                                           1\n",
       "['Health, Fitness & Beauty', 'Strength & Weight Training', 'Resistance Bands']                          1\n",
       "['Name Brands', 'Sony', 'Sony Cameras & Camcorders']                                                    1\n",
       "['Video Games', 'PS Vita', 'PS Vita Consoles']                                                          1\n",
       "Name: labels, Length: 630, dtype: int64"
      ]
     },
     "execution_count": 56,
     "metadata": {},
     "output_type": "execute_result"
    }
   ],
   "source": [
    "df['labels'].value_counts()"
   ]
  },
  {
   "cell_type": "code",
   "execution_count": 57,
   "id": "52df6a6d",
   "metadata": {},
   "outputs": [
    {
     "data": {
      "text/plain": [
       "62"
      ]
     },
     "execution_count": 57,
     "metadata": {},
     "output_type": "execute_result"
    }
   ],
   "source": [
    "sum(df[\"labels\"].value_counts() == 1)"
   ]
  },
  {
   "cell_type": "code",
   "execution_count": 58,
   "id": "68195070",
   "metadata": {},
   "outputs": [
    {
     "data": {
      "text/plain": [
       "(44941, 2)"
      ]
     },
     "execution_count": 58,
     "metadata": {},
     "output_type": "execute_result"
    }
   ],
   "source": [
    "df=df.groupby(\"labels\").filter(lambda x: len(x) > 1)\n",
    "df.shape"
   ]
  },
  {
   "cell_type": "code",
   "execution_count": 59,
   "id": "c9e7cb2e",
   "metadata": {},
   "outputs": [
    {
     "data": {
      "text/plain": [
       "array([list(['Connected Home & Housewares', 'Housewares', 'Household Batteries']),\n",
       "       list(['Connected Home & Housewares', 'Housewares', 'Household Batteries']),\n",
       "       list(['Connected Home & Housewares', 'Housewares', 'Household Batteries']),\n",
       "       list(['Connected Home & Housewares', 'Housewares', 'Household Batteries']),\n",
       "       list(['Connected Home & Housewares', 'Housewares', 'Household Batteries'])],\n",
       "      dtype=object)"
      ]
     },
     "execution_count": 59,
     "metadata": {},
     "output_type": "execute_result"
    }
   ],
   "source": [
    "df[\"labels\"] = df[\"labels\"].apply(\n",
    "    lambda x: literal_eval(x)\n",
    ")\n",
    "df['labels'].values[:5]"
   ]
  },
  {
   "cell_type": "code",
   "execution_count": 60,
   "id": "9a2cba5e",
   "metadata": {},
   "outputs": [],
   "source": [
    "import tensorflow as tf\n",
    "from sklearn.model_selection import train_test_split"
   ]
  },
  {
   "cell_type": "code",
   "execution_count": 61,
   "id": "ac514cb8",
   "metadata": {},
   "outputs": [
    {
     "name": "stdout",
     "output_type": "stream",
     "text": [
      "Number of rows in training set: 28762\n",
      "Number of rows in validation set: 7190\n",
      "Number of rows in test set: 8989\n"
     ]
    }
   ],
   "source": [
    "test_split = 0.2\n",
    "seed = np.random.seed(500)\n",
    "train, test = train_test_split(df,test_size=test_split,stratify=df[\"labels\"].values,random_state=seed)\n",
    "val = train.sample(frac=0.2)\n",
    "train.drop(val.index, inplace=True)\n",
    "\n",
    "print(f\"Number of rows in training set: {len(train)}\")\n",
    "print(f\"Number of rows in validation set: {len(val)}\")\n",
    "print(f\"Number of rows in test set: {len(test)}\")"
   ]
  },
  {
   "cell_type": "code",
   "execution_count": 62,
   "id": "e32275ba",
   "metadata": {},
   "outputs": [
    {
     "name": "stderr",
     "output_type": "stream",
     "text": [
      "2022-04-08 18:24:15.126016: I tensorflow/core/platform/cpu_feature_guard.cc:151] This TensorFlow binary is optimized with oneAPI Deep Neural Network Library (oneDNN) to use the following CPU instructions in performance-critical operations:  AVX2 FMA\n",
      "To enable them in other operations, rebuild TensorFlow with the appropriate compiler flags.\n"
     ]
    }
   ],
   "source": [
    "terms = tf.ragged.constant(train[\"labels\"].values)\n",
    "lookup = tf.keras.layers.StringLookup(output_mode=\"multi_hot\")\n",
    "lookup.adapt(terms)\n",
    "\n",
    "vocab = lookup.get_vocabulary()"
   ]
  },
  {
   "cell_type": "code",
   "execution_count": 63,
   "id": "ac08e5ce",
   "metadata": {},
   "outputs": [
    {
     "data": {
      "text/plain": [
       "706"
      ]
     },
     "execution_count": 63,
     "metadata": {},
     "output_type": "execute_result"
    }
   ],
   "source": [
    "len(vocab)"
   ]
  },
  {
   "cell_type": "code",
   "execution_count": 64,
   "id": "bae737f8",
   "metadata": {},
   "outputs": [],
   "source": [
    "def get_encoded_datset(df):\n",
    "    \"\"\"encode variable length lables to one-hot encoding\"\"\"\n",
    "    \n",
    "    labels = tf.ragged.constant(df[\"labels\"].values)\n",
    "    label_binarized = lookup(labels).numpy()\n",
    "    df = pd.DataFrame( ( df[\"text\"].values, label_binarized ) ).T\n",
    "    df = df.rename(columns={df.columns[0]:'text',df.columns[1]:'labels'})\n",
    "#     df.labels=df.labels.apply(lambda x: np.array(x))\n",
    "    return df"
   ]
  },
  {
   "cell_type": "code",
   "execution_count": 65,
   "id": "a499a4a9",
   "metadata": {},
   "outputs": [],
   "source": [
    "train=get_encoded_datset(train)\n",
    "val=get_encoded_datset(val)\n",
    "test=get_encoded_datset(test)"
   ]
  },
  {
   "cell_type": "code",
   "execution_count": 66,
   "id": "09d8fb73",
   "metadata": {},
   "outputs": [
    {
     "data": {
      "text/plain": [
       "array([0., 0., 0., 0., 0., 1., 0., 0., 0., 0., 0., 0., 0., 0., 0., 0., 0.,\n",
       "       0., 0., 0., 0., 0., 0., 0., 0., 0., 0., 1., 0., 0., 0., 0., 0., 0.,\n",
       "       0., 0., 0., 0., 0., 0., 0., 0., 0., 0., 0., 0., 0., 0., 0., 0., 0.,\n",
       "       0., 0., 0., 0., 0., 0., 0., 0., 0., 0., 0., 0., 0., 0., 0., 0., 0.,\n",
       "       0., 0., 0., 0., 0., 0., 0., 0., 0., 0., 0., 0., 0., 0., 0., 0., 0.,\n",
       "       0., 0., 0., 0., 0., 0., 0., 0., 0., 0., 0., 0., 0., 0., 0., 0., 0.,\n",
       "       0., 0., 0., 0., 0., 0., 0., 0., 0., 0., 0., 0., 0., 0., 0., 0., 0.,\n",
       "       0., 0., 0., 0., 1., 0., 0., 0., 0., 0., 0., 0., 0., 0., 0., 0., 0.,\n",
       "       0., 0., 0., 0., 0., 0., 0., 0., 0., 0., 0., 0., 0., 0., 0., 0., 0.,\n",
       "       0., 0., 0., 0., 0., 0., 0., 0., 0., 0., 0., 0., 0., 0., 0., 0., 0.,\n",
       "       0., 0., 0., 0., 0., 0., 0., 0., 0., 0., 0., 0., 0., 0., 0., 0., 0.,\n",
       "       0., 0., 0., 0., 0., 0., 0., 0., 0., 0., 0., 0., 0., 0., 0., 0., 0.,\n",
       "       0., 0., 0., 0., 0., 0., 0., 0., 0., 0., 0., 0., 0., 0., 0., 0., 0.,\n",
       "       0., 0., 0., 0., 0., 0., 0., 0., 0., 0., 0., 0., 0., 0., 0., 0., 0.,\n",
       "       0., 0., 0., 0., 0., 0., 0., 0., 0., 0., 0., 0., 0., 0., 0., 0., 0.,\n",
       "       0., 0., 0., 0., 0., 0., 0., 0., 0., 0., 0., 0., 0., 0., 0., 0., 0.,\n",
       "       0., 0., 0., 0., 0., 0., 0., 0., 0., 0., 0., 0., 0., 0., 0., 0., 0.,\n",
       "       0., 0., 0., 0., 0., 0., 0., 0., 0., 0., 0., 0., 0., 0., 0., 0., 0.,\n",
       "       0., 0., 0., 0., 0., 0., 0., 0., 0., 0., 0., 0., 0., 0., 0., 0., 0.,\n",
       "       0., 0., 0., 0., 0., 0., 0., 0., 0., 0., 0., 0., 0., 0., 0., 0., 0.,\n",
       "       0., 0., 0., 0., 0., 0., 0., 0., 0., 0., 0., 0., 0., 0., 0., 0., 0.,\n",
       "       0., 0., 0., 0., 0., 0., 0., 0., 0., 0., 0., 0., 0., 0., 0., 0., 0.,\n",
       "       0., 0., 0., 0., 0., 0., 0., 0., 0., 0., 0., 0., 0., 0., 0., 0., 0.,\n",
       "       0., 0., 0., 0., 0., 0., 0., 0., 0., 0., 0., 0., 0., 0., 0., 0., 0.,\n",
       "       0., 0., 0., 0., 0., 0., 0., 0., 0., 0., 0., 0., 0., 0., 0., 0., 0.,\n",
       "       0., 0., 0., 0., 0., 0., 0., 0., 0., 0., 0., 0., 0., 0., 0., 0., 0.,\n",
       "       0., 0., 0., 0., 0., 0., 0., 0., 0., 0., 0., 0., 0., 0., 0., 0., 0.,\n",
       "       0., 0., 0., 0., 0., 0., 0., 0., 0., 0., 0., 0., 0., 0., 0., 0., 0.,\n",
       "       0., 0., 0., 0., 0., 0., 0., 0., 0., 0., 0., 0., 0., 0., 0., 0., 0.,\n",
       "       0., 0., 0., 0., 0., 0., 0., 0., 0., 0., 0., 0., 0., 0., 0., 0., 0.,\n",
       "       0., 0., 0., 0., 0., 0., 0., 0., 0., 0., 0., 0., 0., 0., 0., 0., 0.,\n",
       "       0., 0., 0., 0., 0., 0., 0., 0., 0., 0., 0., 0., 0., 0., 0., 0., 0.,\n",
       "       0., 0., 0., 0., 0., 0., 0., 0., 0., 0., 0., 0., 0., 0., 0., 0., 0.,\n",
       "       0., 0., 0., 0., 0., 0., 0., 0., 0., 0., 0., 0., 0., 0., 0., 0., 0.,\n",
       "       0., 0., 0., 0., 0., 0., 0., 0., 0., 0., 0., 0., 0., 0., 0., 0., 0.,\n",
       "       0., 0., 0., 0., 0., 0., 0., 0., 0., 0., 0., 0., 0., 0., 0., 0., 0.,\n",
       "       0., 0., 0., 0., 0., 0., 0., 0., 0., 0., 0., 0., 0., 0., 0., 0., 0.,\n",
       "       0., 0., 0., 0., 0., 0., 0., 0., 0., 0., 0., 0., 0., 0., 0., 0., 0.,\n",
       "       0., 0., 0., 0., 0., 0., 0., 0., 0., 0., 0., 0., 0., 0., 0., 0., 0.,\n",
       "       0., 0., 0., 0., 0., 0., 0., 0., 0., 0., 0., 0., 0., 0., 0., 0., 0.,\n",
       "       0., 0., 0., 0., 0., 0., 0., 0., 0., 0., 0., 0., 0., 0., 0., 0., 0.,\n",
       "       0., 0., 0., 0., 0., 0., 0., 0., 0.], dtype=float32)"
      ]
     },
     "execution_count": 66,
     "metadata": {},
     "output_type": "execute_result"
    }
   ],
   "source": [
    "train.labels[0]"
   ]
  },
  {
   "cell_type": "code",
   "execution_count": 67,
   "id": "98f7881f",
   "metadata": {},
   "outputs": [],
   "source": [
    "train.to_pickle('./datasets/train.pkl')\n",
    "val.to_pickle('./datasets/val.pkl')\n",
    "test.to_pickle('./datasets/test.pkl')"
   ]
  },
  {
   "cell_type": "code",
   "execution_count": 68,
   "id": "839a886b",
   "metadata": {},
   "outputs": [],
   "source": [
    "import json"
   ]
  },
  {
   "cell_type": "code",
   "execution_count": 69,
   "id": "89c8aeb3",
   "metadata": {},
   "outputs": [],
   "source": [
    "data={\n",
    "    'vocab':vocab\n",
    "}\n",
    "\n"
   ]
  },
  {
   "cell_type": "code",
   "execution_count": 70,
   "id": "d2767901",
   "metadata": {},
   "outputs": [],
   "source": [
    "with open('./datasets/vocab_data.json', 'w') as file:\n",
    "    json.dump(data, file)"
   ]
  },
  {
   "cell_type": "code",
   "execution_count": 71,
   "id": "78e37735",
   "metadata": {},
   "outputs": [
    {
     "data": {
      "text/plain": [
       "()"
      ]
     },
     "execution_count": 71,
     "metadata": {},
     "output_type": "execute_result"
    }
   ],
   "source": [
    "()"
   ]
  }
 ],
 "metadata": {
  "kernelspec": {
   "display_name": "tf2.8",
   "language": "python",
   "name": "env"
  },
  "language_info": {
   "codemirror_mode": {
    "name": "ipython",
    "version": 3
   },
   "file_extension": ".py",
   "mimetype": "text/x-python",
   "name": "python",
   "nbconvert_exporter": "python",
   "pygments_lexer": "ipython3",
   "version": "3.8.5"
  }
 },
 "nbformat": 4,
 "nbformat_minor": 5
}
