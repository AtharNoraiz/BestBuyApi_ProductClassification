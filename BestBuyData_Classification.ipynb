{
 "cells": [
  {
   "cell_type": "code",
   "execution_count": 1,
   "id": "0fa105be",
   "metadata": {},
   "outputs": [],
   "source": [
    "import json\n",
    "import numpy as np\n",
    "import pandas as pd\n",
    "import tensorflow as tf\n",
    "import matplotlib.pyplot as plt\n",
    "import warnings\n",
    "warnings.filterwarnings(\"ignore\")"
   ]
  },
  {
   "cell_type": "code",
   "execution_count": 2,
   "id": "67fc8f97",
   "metadata": {},
   "outputs": [],
   "source": [
    "from tensorflow.keras import layers\n",
    "from tensorflow import keras\n",
    "from keras.layers import Embedding,Dense,LSTM, Bidirectional,Dropout"
   ]
  },
  {
   "cell_type": "code",
   "execution_count": 3,
   "id": "4e121e46",
   "metadata": {},
   "outputs": [
    {
     "name": "stderr",
     "output_type": "stream",
     "text": [
      "[nltk_data] Downloading package stopwords to /home/athar/nltk_data...\n",
      "[nltk_data]   Package stopwords is already up-to-date!\n"
     ]
    },
    {
     "data": {
      "text/plain": [
       "True"
      ]
     },
     "execution_count": 3,
     "metadata": {},
     "output_type": "execute_result"
    }
   ],
   "source": [
    "import re\n",
    "import string\n",
    "import nltk\n",
    "from nltk.corpus import stopwords\n",
    "nltk.download('stopwords')"
   ]
  },
  {
   "cell_type": "code",
   "execution_count": 4,
   "id": "3e6f30a2",
   "metadata": {},
   "outputs": [],
   "source": [
    "stop_words = set(stopwords.words('english'))\n",
    "stop_words.update(['.', ',', '\"', \"'\", ':', ';', '(', ')', '[', ']', '{', '}','-','-'])"
   ]
  },
  {
   "cell_type": "code",
   "execution_count": 5,
   "id": "65a891a8",
   "metadata": {},
   "outputs": [],
   "source": [
    "train = pd.read_pickle('./datasets/train.pkl')\n",
    "val = pd.read_pickle('./datasets/val.pkl')\n",
    "test = pd.read_pickle('./datasets/test.pkl')"
   ]
  },
  {
   "cell_type": "code",
   "execution_count": 6,
   "id": "23651ee5",
   "metadata": {},
   "outputs": [
    {
     "name": "stdout",
     "output_type": "stream",
     "text": [
      "43066\n"
     ]
    }
   ],
   "source": [
    "vocabulary = set()\n",
    "train[\"text\"].str.lower().str.split().apply(vocabulary.update)\n",
    "vocab_size = len(vocabulary)\n",
    "print(vocab_size)"
   ]
  },
  {
   "cell_type": "code",
   "execution_count": 7,
   "id": "1be62a59",
   "metadata": {},
   "outputs": [],
   "source": [
    "with open('./datasets/vocab_data.json', 'r') as fp:\n",
    "    data = json.load(fp)"
   ]
  },
  {
   "cell_type": "code",
   "execution_count": 8,
   "id": "e2344f76",
   "metadata": {},
   "outputs": [],
   "source": [
    "vocab=data['vocab']"
   ]
  },
  {
   "cell_type": "code",
   "execution_count": 9,
   "id": "20ef0989",
   "metadata": {},
   "outputs": [],
   "source": [
    "total_categories=len(vocab)"
   ]
  },
  {
   "cell_type": "code",
   "execution_count": 10,
   "id": "cad94190",
   "metadata": {},
   "outputs": [],
   "source": [
    "import io\n",
    "\n",
    "def load_vectors(fname):\n",
    "    \"\"\"Reading text file line by line wkere at first index of line we have word as index for embedding vector\n",
    "    :fname: filepath\"\"\"\n",
    "    \n",
    "    fin = io.open(fname, 'r', encoding='utf-8', newline='\\n', errors='ignore')\n",
    "    data = {}\n",
    "    for line in fin:\n",
    "        tokens = line.rstrip().split(' ')\n",
    "        word=tokens[0]\n",
    "        embedings=np.asarray(tokens[1:],dtype='float32')\n",
    "        data[word]=embedings\n",
    "    return data"
   ]
  },
  {
   "cell_type": "code",
   "execution_count": 11,
   "id": "ce2483e5",
   "metadata": {},
   "outputs": [],
   "source": [
    "embeding_index=load_vectors('crawl-300d-2M.vec')"
   ]
  },
  {
   "cell_type": "markdown",
   "id": "1f317eda",
   "metadata": {},
   "source": [
    "### Data Pipline"
   ]
  },
  {
   "cell_type": "code",
   "execution_count": 12,
   "id": "77f4cf52",
   "metadata": {},
   "outputs": [],
   "source": [
    "max_seqlen = 200\n",
    "batch_size = 32\n",
    "auto = tf.data.AUTOTUNE\n",
    "tf.random.set_seed(1234)\n",
    "\n",
    "def make_dataset(df, is_train=True):\n",
    "\n",
    "    labels= np.array([np.array(i) for i in df.labels])\n",
    "    dataset = tf.data.Dataset.from_tensor_slices( (df[\"text\"].values,labels  ) )\n",
    "    dataset = dataset.shuffle(batch_size * 32 ) if is_train else dataset\n",
    "    \n",
    "    return dataset.batch(batch_size)"
   ]
  },
  {
   "cell_type": "code",
   "execution_count": 13,
   "id": "ea19925b",
   "metadata": {},
   "outputs": [
    {
     "name": "stderr",
     "output_type": "stream",
     "text": [
      "2022-04-08 14:44:23.369586: I tensorflow/core/platform/cpu_feature_guard.cc:151] This TensorFlow binary is optimized with oneAPI Deep Neural Network Library (oneDNN) to use the following CPU instructions in performance-critical operations:  AVX2 FMA\n",
      "To enable them in other operations, rebuild TensorFlow with the appropriate compiler flags.\n",
      "2022-04-08 14:44:23.388610: W tensorflow/core/framework/cpu_allocator_impl.cc:82] Allocation of 81223888 exceeds 10% of free system memory.\n",
      "2022-04-08 14:44:23.572172: W tensorflow/core/framework/cpu_allocator_impl.cc:82] Allocation of 25384936 exceeds 10% of free system memory.\n"
     ]
    }
   ],
   "source": [
    "train_dataset = make_dataset(train, is_train=True)\n",
    "validation_dataset = make_dataset(val, is_train=False)\n",
    "test_dataset = make_dataset(test, is_train=False)"
   ]
  },
  {
   "cell_type": "code",
   "execution_count": 14,
   "id": "1d59fbd9",
   "metadata": {},
   "outputs": [],
   "source": [
    "@tf.keras.utils.register_keras_serializable()\n",
    "def clean_text(input_data):\n",
    "    \n",
    "    lowercase = tf.strings.lower(input_data)\n",
    "    cleaned_stopwords=tf.strings.regex_replace(lowercase, r'\\b(' + r'|'.join(stopwords.words('english')) + r')\\b\\s*',\"\")\n",
    "    cleaned_text=tf.strings.regex_replace(cleaned_stopwords,'[%s]' % re.escape(string.punctuation),'')\n",
    "    return cleaned_text\n"
   ]
  },
  {
   "cell_type": "code",
   "execution_count": 15,
   "id": "5829d70f",
   "metadata": {},
   "outputs": [
    {
     "name": "stderr",
     "output_type": "stream",
     "text": [
      "2022-04-08 14:44:23.821945: W tensorflow/core/framework/cpu_allocator_impl.cc:82] Allocation of 81223888 exceeds 10% of free system memory.\n",
      "2022-04-08 14:44:24.153140: W tensorflow/core/framework/cpu_allocator_impl.cc:82] Allocation of 81223888 exceeds 10% of free system memory.\n"
     ]
    }
   ],
   "source": [
    "vectorizer = layers.TextVectorization(\n",
    "    standardize = clean_text,\n",
    "    max_tokens = vocab_size,\n",
    "    output_mode = 'int',\n",
    "output_sequence_length = max_seqlen )\n",
    "\n",
    "train_text = train_dataset.map(lambda x, y: x)\n",
    "with tf.device(\"/CPU:0\"):\n",
    "    vectorizer.adapt(train_text)"
   ]
  },
  {
   "cell_type": "code",
   "execution_count": 40,
   "id": "cd318480",
   "metadata": {},
   "outputs": [
    {
     "data": {
      "text/plain": [
       "<tf.Tensor: shape=(200,), dtype=int64, numpy=\n",
       "array([1740, 8294,    0,    0,    0,    0,    0,    0,    0,    0,    0,\n",
       "          0,    0,    0,    0,    0,    0,    0,    0,    0,    0,    0,\n",
       "          0,    0,    0,    0,    0,    0,    0,    0,    0,    0,    0,\n",
       "          0,    0,    0,    0,    0,    0,    0,    0,    0,    0,    0,\n",
       "          0,    0,    0,    0,    0,    0,    0,    0,    0,    0,    0,\n",
       "          0,    0,    0,    0,    0,    0,    0,    0,    0,    0,    0,\n",
       "          0,    0,    0,    0,    0,    0,    0,    0,    0,    0,    0,\n",
       "          0,    0,    0,    0,    0,    0,    0,    0,    0,    0,    0,\n",
       "          0,    0,    0,    0,    0,    0,    0,    0,    0,    0,    0,\n",
       "          0,    0,    0,    0,    0,    0,    0,    0,    0,    0,    0,\n",
       "          0,    0,    0,    0,    0,    0,    0,    0,    0,    0,    0,\n",
       "          0,    0,    0,    0,    0,    0,    0,    0,    0,    0,    0,\n",
       "          0,    0,    0,    0,    0,    0,    0,    0,    0,    0,    0,\n",
       "          0,    0,    0,    0,    0,    0,    0,    0,    0,    0,    0,\n",
       "          0,    0,    0,    0,    0,    0,    0,    0,    0,    0,    0,\n",
       "          0,    0,    0,    0,    0,    0,    0,    0,    0,    0,    0,\n",
       "          0,    0,    0,    0,    0,    0,    0,    0,    0,    0,    0,\n",
       "          0,    0,    0,    0,    0,    0,    0,    0,    0,    0,    0,\n",
       "          0,    0])>"
      ]
     },
     "execution_count": 40,
     "metadata": {},
     "output_type": "execute_result"
    }
   ],
   "source": [
    "vectorizer('dog my amazing')"
   ]
  },
  {
   "cell_type": "code",
   "execution_count": 16,
   "id": "9ff1d77a",
   "metadata": {},
   "outputs": [],
   "source": [
    "def get_vectoriz_dataset(dataset):\n",
    "    dataset=dataset.map(lambda text, label: (vectorizer (text), label), num_parallel_calls=auto).prefetch(auto)\n",
    "    return dataset"
   ]
  },
  {
   "cell_type": "code",
   "execution_count": 17,
   "id": "6ba9848f",
   "metadata": {},
   "outputs": [],
   "source": [
    "train_dataset = get_vectoriz_dataset(train_dataset)\n",
    "\n",
    "validation_dataset = get_vectoriz_dataset(validation_dataset)\n",
    "\n",
    "test_dataset = get_vectoriz_dataset(test_dataset)"
   ]
  },
  {
   "cell_type": "markdown",
   "id": "41b1a6fb",
   "metadata": {},
   "source": [
    "### Embedding Matrix"
   ]
  },
  {
   "cell_type": "code",
   "execution_count": 18,
   "id": "124541e0",
   "metadata": {},
   "outputs": [],
   "source": [
    "number_words=vectorizer.vocabulary_size()+1\n",
    "embeddings_dimension=300"
   ]
  },
  {
   "cell_type": "code",
   "execution_count": 39,
   "id": "2279faa7",
   "metadata": {},
   "outputs": [
    {
     "data": {
      "text/plain": [
       "array([-2.812e-01, -5.300e-03, -4.720e-02, -9.710e-02,  2.170e-02,\n",
       "        9.590e-02,  2.676e-01, -3.328e-01,  1.734e-01,  1.207e-01,\n",
       "        6.260e-02,  3.386e-01,  8.930e-02, -6.400e-02,  2.372e-01,\n",
       "       -2.236e-01, -2.600e-03, -1.032e-01, -1.390e-02,  1.356e-01,\n",
       "       -5.800e-02,  5.980e-02, -1.746e-01,  7.590e-02, -7.850e-02,\n",
       "       -3.060e-02,  1.872e-01,  7.100e-03, -9.080e-02, -1.600e-02,\n",
       "       -1.288e-01,  4.150e-02, -1.083e-01, -3.960e-01,  1.346e-01,\n",
       "       -1.291e-01,  1.338e-01, -5.330e-02, -4.420e-02, -1.867e-01,\n",
       "        2.900e-02, -1.862e-01,  1.645e-01,  3.422e-01, -2.930e-02,\n",
       "       -7.690e-02,  8.720e-02, -5.750e-02,  2.144e-01,  6.240e-02,\n",
       "       -5.680e-02,  7.320e-02,  6.945e-01, -1.490e-01, -2.383e-01,\n",
       "       -2.679e-01, -6.040e-02, -4.241e-01, -9.020e-02,  2.810e-02,\n",
       "       -2.650e-02, -3.018e-01, -7.400e-02,  5.780e-02,  1.296e-01,\n",
       "       -4.030e-02,  1.341e-01, -2.513e-01, -1.038e-01,  1.420e-02,\n",
       "       -1.770e-01,  5.240e-02, -8.940e-02,  2.096e-01,  7.890e-02,\n",
       "        4.491e-01, -6.659e-01,  3.870e-02,  8.220e-02, -1.126e-01,\n",
       "        6.132e-01,  1.226e-01,  6.470e-02, -3.050e-02, -6.920e-02,\n",
       "       -4.700e-03, -1.761e-01, -5.690e-02,  6.200e-02,  1.002e-01,\n",
       "       -2.118e-01,  2.581e-01,  1.019e-01, -3.020e-02,  1.810e-02,\n",
       "       -9.530e-02,  3.438e-01, -5.860e-02, -1.876e-01,  4.580e-02,\n",
       "        1.135e-01,  5.370e-02, -1.633e-01, -1.039e-01, -2.351e-01,\n",
       "        3.201e-01,  1.257e-01, -1.406e-01, -1.035e-01,  6.500e-03,\n",
       "        2.051e-01,  1.525e-01,  3.385e-01,  9.200e-03, -7.192e-01,\n",
       "       -1.448e-01, -1.280e-02,  2.540e-02, -2.052e-01,  1.940e-02,\n",
       "        2.110e-02,  4.390e-02,  3.832e-01, -9.830e-02,  1.351e-01,\n",
       "       -1.899e-01, -8.510e-02, -1.214e-01, -5.980e-02,  1.647e-01,\n",
       "       -8.440e-02,  3.402e-01,  7.600e-03,  1.468e-01,  2.397e-01,\n",
       "       -1.600e-03, -4.950e-02,  1.135e-01,  6.850e-02, -3.749e-01,\n",
       "       -1.134e-01,  1.628e-01, -3.600e-03,  2.297e-01, -4.001e-01,\n",
       "       -3.470e-02, -1.391e-01, -7.040e-02,  9.370e-02, -1.152e-01,\n",
       "        3.670e-02,  1.080e-02, -1.856e-01, -5.100e-03,  9.820e-02,\n",
       "       -8.300e-03,  3.190e-02,  1.104e-01, -1.005e-01, -1.500e-03,\n",
       "        1.435e-01,  5.570e-02,  1.155e-01,  1.155e-01, -1.408e-01,\n",
       "        1.296e-01,  2.310e-01, -3.700e-03,  1.800e-03, -1.087e-01,\n",
       "       -1.234e-01,  1.616e-01, -6.130e-02, -2.950e-02, -2.224e-01,\n",
       "       -4.010e-02, -2.620e-02,  3.403e-01, -9.640e-02,  6.710e-02,\n",
       "        5.039e-01,  5.060e-02,  2.136e-01, -6.120e-02, -1.279e-01,\n",
       "       -1.337e-01, -1.100e-01, -2.930e-02, -8.650e-02,  3.740e-02,\n",
       "        9.720e-02,  2.920e-02, -2.550e-02, -4.770e-02, -4.270e-02,\n",
       "       -7.970e-02, -6.870e-02, -6.070e-02, -2.160e-02,  4.840e-02,\n",
       "        1.380e-01,  5.320e-02,  9.940e-02, -6.930e-02, -4.740e-02,\n",
       "        2.750e-02, -1.484e-01, -1.115e-01,  1.800e-02, -4.059e-01,\n",
       "        2.114e-01,  4.550e-01,  9.600e-03,  2.319e-01,  2.440e-02,\n",
       "       -2.101e-01,  1.120e-01, -3.860e-02,  5.900e-02,  1.935e-01,\n",
       "       -5.680e-02,  2.342e-01, -7.080e-02,  1.840e-01,  1.298e-01,\n",
       "        1.938e-01,  2.103e-01, -5.050e-02,  1.274e-01,  5.630e-02,\n",
       "        2.650e-02, -3.820e-02,  1.305e-01, -2.113e-01, -1.950e-02,\n",
       "        3.177e-01, -1.631e-01, -1.840e-02,  1.580e-02,  3.090e-02,\n",
       "        2.020e-02,  1.070e-01,  1.105e-01,  1.025e-01, -2.530e-02,\n",
       "       -5.400e-02,  3.253e-01,  1.193e-01,  1.173e-01, -2.180e-02,\n",
       "        1.892e-01, -1.084e-01, -5.180e-02,  8.050e-02,  1.716e-01,\n",
       "        2.637e-01, -4.000e-03, -7.000e-04, -1.070e-01, -4.920e-02,\n",
       "        6.520e-02, -8.080e-02, -1.530e-01, -8.000e-03, -6.630e-02,\n",
       "       -4.840e-02,  1.558e-01,  5.320e-02,  2.697e-01, -6.980e-02,\n",
       "       -4.749e-01, -1.295e-01,  1.755e-01,  1.070e-01, -6.890e-02,\n",
       "        1.564e-01, -2.841e-01,  1.235e-01, -1.974e-01, -2.450e-02,\n",
       "       -5.600e-03,  1.233e-01,  1.579e-01,  1.652e-01,  2.330e-02,\n",
       "       -2.930e-02,  5.740e-02,  3.610e-02,  2.500e-03,  1.074e-01,\n",
       "       -2.148e-01,  1.661e-01,  9.920e-02, -4.786e-01, -3.560e-02,\n",
       "       -4.028e-01,  2.620e-02,  2.666e-01,  1.672e-01, -1.243e-01],\n",
       "      dtype=float32)"
      ]
     },
     "execution_count": 39,
     "metadata": {},
     "output_type": "execute_result"
    }
   ],
   "source": [
    "embeding_index.get('my')"
   ]
  },
  {
   "cell_type": "code",
   "execution_count": 19,
   "id": "92f23e28",
   "metadata": {},
   "outputs": [],
   "source": [
    "embeddings_matrix= np.zeros((number_words,embeddings_dimension))"
   ]
  },
  {
   "cell_type": "code",
   "execution_count": 20,
   "id": "d2c5c505",
   "metadata": {},
   "outputs": [],
   "source": [
    "for index ,word  in enumerate(vectorizer.get_vocabulary()):\n",
    "    \n",
    "    embeding_vector=embeding_index.get(word)\n",
    "    \n",
    "    if embeding_vector is not None:\n",
    "        embeddings_matrix[index]=embeding_vector\n",
    "    else:\n",
    "        print(f\"{word} not found\")\n",
    "     "
   ]
  },
  {
   "cell_type": "code",
   "execution_count": 21,
   "id": "b9ef1432",
   "metadata": {},
   "outputs": [],
   "source": [
    "from tensorflow.keras import regularizers\n",
    "def get_model():\n",
    "    \n",
    "        model = tf.keras.Sequential()\n",
    "        # embedding layer\n",
    "        model.add( Embedding( number_words,embeddings_dimension,input_length=max_seqlen, weights=[embeddings_matrix],trainable=False) )\n",
    "        #  first LSTM layer\n",
    "        model.add( Bidirectional( LSTM(units=64,return_sequences= True) ) )\n",
    "        #  second LSTM layer\n",
    "        model.add(Bidirectional( LSTM(units=32,return_sequences=False) ) )\n",
    "        #  first Dense layer\n",
    "        model.add( Dense( units=512,activation='relu' ))\n",
    "#         model.add(Dropout(0.2))\n",
    "        #  Second Dense layer\n",
    "        model.add( Dense( units=256,activation='relu' ))\n",
    "#         model.add(Dropout(0.2))\n",
    "        #   output layer\n",
    "        model.add( Dense(units=total_categories,activation='sigmoid') )\n",
    "        return model"
   ]
  },
  {
   "cell_type": "code",
   "execution_count": 22,
   "id": "93203f62",
   "metadata": {},
   "outputs": [
    {
     "name": "stderr",
     "output_type": "stream",
     "text": [
      "2022-04-08 14:44:25.613433: W tensorflow/core/framework/cpu_allocator_impl.cc:82] Allocation of 39892800 exceeds 10% of free system memory.\n"
     ]
    },
    {
     "name": "stdout",
     "output_type": "stream",
     "text": [
      "Epoch 1/20\n",
      "899/899 [==============================] - 198s 214ms/step - loss: 0.0287 - categorical_accuracy: 0.2408 - val_loss: 0.0175 - val_categorical_accuracy: 0.3961\n",
      "Epoch 2/20\n",
      "899/899 [==============================] - 191s 212ms/step - loss: 0.0136 - categorical_accuracy: 0.6785 - val_loss: 0.0104 - val_categorical_accuracy: 0.8401\n",
      "Epoch 3/20\n",
      "899/899 [==============================] - 197s 219ms/step - loss: 0.0085 - categorical_accuracy: 0.8162 - val_loss: 0.0075 - val_categorical_accuracy: 0.7745\n",
      "Epoch 4/20\n",
      "899/899 [==============================] - 197s 219ms/step - loss: 0.0062 - categorical_accuracy: 0.7594 - val_loss: 0.0059 - val_categorical_accuracy: 0.7779\n",
      "Epoch 5/20\n",
      "899/899 [==============================] - 198s 220ms/step - loss: 0.0048 - categorical_accuracy: 0.7434 - val_loss: 0.0049 - val_categorical_accuracy: 0.7177\n",
      "Epoch 6/20\n",
      "899/899 [==============================] - 199s 221ms/step - loss: 0.0039 - categorical_accuracy: 0.7349 - val_loss: 0.0047 - val_categorical_accuracy: 0.7131\n",
      "Epoch 7/20\n",
      "899/899 [==============================] - 199s 221ms/step - loss: 0.0033 - categorical_accuracy: 0.7288 - val_loss: 0.0043 - val_categorical_accuracy: 0.6933\n",
      "Epoch 8/20\n",
      "899/899 [==============================] - 201s 223ms/step - loss: 0.0028 - categorical_accuracy: 0.7241 - val_loss: 0.0040 - val_categorical_accuracy: 0.7178\n",
      "Epoch 9/20\n",
      "899/899 [==============================] - 199s 221ms/step - loss: 0.0024 - categorical_accuracy: 0.7131 - val_loss: 0.0040 - val_categorical_accuracy: 0.7556\n",
      "Epoch 10/20\n",
      "899/899 [==============================] - 199s 221ms/step - loss: 0.0021 - categorical_accuracy: 0.7140 - val_loss: 0.0040 - val_categorical_accuracy: 0.6787\n",
      "Epoch 11/20\n",
      "899/899 [==============================] - 200s 222ms/step - loss: 0.0019 - categorical_accuracy: 0.7068 - val_loss: 0.0038 - val_categorical_accuracy: 0.7138\n",
      "Epoch 12/20\n",
      "899/899 [==============================] - 200s 222ms/step - loss: 0.0017 - categorical_accuracy: 0.6976 - val_loss: 0.0038 - val_categorical_accuracy: 0.6587\n",
      "Epoch 13/20\n",
      "899/899 [==============================] - 199s 221ms/step - loss: 0.0015 - categorical_accuracy: 0.6932 - val_loss: 0.0039 - val_categorical_accuracy: 0.7217\n",
      "Epoch 14/20\n",
      "899/899 [==============================] - 199s 221ms/step - loss: 0.0013 - categorical_accuracy: 0.6915 - val_loss: 0.0040 - val_categorical_accuracy: 0.6670\n",
      "Epoch 15/20\n",
      "899/899 [==============================] - 198s 221ms/step - loss: 0.0012 - categorical_accuracy: 0.6850 - val_loss: 0.0043 - val_categorical_accuracy: 0.7019\n",
      "Epoch 16/20\n",
      "899/899 [==============================] - 198s 221ms/step - loss: 0.0011 - categorical_accuracy: 0.6859 - val_loss: 0.0041 - val_categorical_accuracy: 0.6929\n",
      "Epoch 17/20\n",
      "899/899 [==============================] - 198s 221ms/step - loss: 9.6376e-04 - categorical_accuracy: 0.6764 - val_loss: 0.0042 - val_categorical_accuracy: 0.6772\n",
      "Epoch 18/20\n",
      "899/899 [==============================] - 199s 221ms/step - loss: 9.2831e-04 - categorical_accuracy: 0.6615 - val_loss: 0.0048 - val_categorical_accuracy: 0.7332\n",
      "Epoch 19/20\n",
      "899/899 [==============================] - 198s 221ms/step - loss: 8.6359e-04 - categorical_accuracy: 0.6702 - val_loss: 0.0049 - val_categorical_accuracy: 0.6455\n",
      "Epoch 20/20\n",
      "899/899 [==============================] - 200s 222ms/step - loss: 8.1283e-04 - categorical_accuracy: 0.6659 - val_loss: 0.0047 - val_categorical_accuracy: 0.6651\n"
     ]
    }
   ],
   "source": [
    "epochs = 20\n",
    "lr=0.001\n",
    "model = get_model()\n",
    "model.compile(loss=\"binary_crossentropy\", optimizer=keras.optimizers.Adam(learning_rate=lr), metrics=[\"categorical_accuracy\"] )\n",
    "\n",
    "history = model.fit( train_dataset, validation_data=validation_dataset, epochs=epochs )\n",
    "\n"
   ]
  },
  {
   "cell_type": "code",
   "execution_count": 23,
   "id": "502f19e6",
   "metadata": {},
   "outputs": [
    {
     "data": {
      "image/png": "[encoded data removed]",
      "text/plain": [
       "<Figure size 792x792 with 1 Axes>"
      ]
     },
     "metadata": {
      "needs_background": "light"
     },
     "output_type": "display_data"
    },
    {
     "data": {
      "image/png": "[encoded data removed]",
      "text/plain": [
       "<Figure size 792x792 with 1 Axes>"
      ]
     },
     "metadata": {
      "needs_background": "light"
     },
     "output_type": "display_data"
    }
   ],
   "source": [
    "import matplotlib.pyplot as plt\n",
    "\n",
    "def plot_result(item):\n",
    "    plt.figure(figsize=(11,11))\n",
    "    plt.plot(history.history[item], label=item)\n",
    "    plt.plot(history.history[\"val_\" + item], label=\"val_\" + item)\n",
    "    plt.xlabel(\"Epochs\")\n",
    "    plt.ylabel(item)\n",
    "    plt.title(\"Train and Validation {} Over Epochs\".format(item), fontsize=14)\n",
    "    plt.legend()\n",
    "    plt.grid()\n",
    "    plt.show()\n",
    "\n",
    "\n",
    "plot_result(\"loss\")\n",
    "plot_result(\"categorical_accuracy\")"
   ]
  },
  {
   "cell_type": "code",
   "execution_count": 24,
   "id": "57ee9c0c",
   "metadata": {},
   "outputs": [
    {
     "name": "stdout",
     "output_type": "stream",
     "text": [
      "281/281 [==============================] - 18s 64ms/step - loss: 0.0047 - categorical_accuracy: 0.6728\n",
      "Categorical accuracy on the test set: 67.28%.\n"
     ]
    }
   ],
   "source": [
    "_, categorical_acc = model.evaluate(test_dataset)\n",
    "print(f\"Categorical accuracy on the test set: {round(categorical_acc * 100, 2)}%.\")"
   ]
  },
  {
   "cell_type": "code",
   "execution_count": 25,
   "id": "3afbb9d0",
   "metadata": {},
   "outputs": [],
   "source": [
    "model2= keras.Sequential([vectorizer, model])"
   ]
  },
  {
   "cell_type": "code",
   "execution_count": null,
   "id": "914bb9df",
   "metadata": {},
   "outputs": [],
   "source": []
  },
  {
   "cell_type": "code",
   "execution_count": 26,
   "id": "42b1281a",
   "metadata": {},
   "outputs": [
    {
     "name": "stdout",
     "output_type": "stream",
     "text": [
      "WARNING:tensorflow:Compiled the loaded model, but the compiled metrics have yet to be built. `model.compile_metrics` will be empty until you train or evaluate the model.\n"
     ]
    },
    {
     "name": "stderr",
     "output_type": "stream",
     "text": [
      "2022-04-08 15:51:01.590873: W tensorflow/python/util/util.cc:368] Sets are not currently considered sequences, but this may change in the future, so consider avoiding using them.\n",
      "WARNING:absl:Found untraced functions such as lstm_cell_1_layer_call_fn, lstm_cell_1_layer_call_and_return_conditional_losses, lstm_cell_2_layer_call_fn, lstm_cell_2_layer_call_and_return_conditional_losses, lstm_cell_4_layer_call_fn while saving (showing 5 of 8). These functions will not be directly callable after loading.\n"
     ]
    },
    {
     "name": "stdout",
     "output_type": "stream",
     "text": [
      "INFO:tensorflow:Assets written to: ./model/bestbuy_model/assets\n"
     ]
    },
    {
     "name": "stderr",
     "output_type": "stream",
     "text": [
      "INFO:tensorflow:Assets written to: ./model/bestbuy_model/assets\n",
      "WARNING:absl:<keras.layers.recurrent.LSTMCell object at 0x7feeee791a60> has the same name 'LSTMCell' as a built-in Keras object. Consider renaming <class 'keras.layers.recurrent.LSTMCell'> to avoid naming conflicts when loading with `tf.keras.models.load_model`. If renaming is not possible, pass the object in the `custom_objects` parameter of the load function.\n",
      "WARNING:absl:<keras.layers.recurrent.LSTMCell object at 0x7feeee5ea6a0> has the same name 'LSTMCell' as a built-in Keras object. Consider renaming <class 'keras.layers.recurrent.LSTMCell'> to avoid naming conflicts when loading with `tf.keras.models.load_model`. If renaming is not possible, pass the object in the `custom_objects` parameter of the load function.\n",
      "WARNING:absl:<keras.layers.recurrent.LSTMCell object at 0x7feeee08e130> has the same name 'LSTMCell' as a built-in Keras object. Consider renaming <class 'keras.layers.recurrent.LSTMCell'> to avoid naming conflicts when loading with `tf.keras.models.load_model`. If renaming is not possible, pass the object in the `custom_objects` parameter of the load function.\n",
      "WARNING:absl:<keras.layers.recurrent.LSTMCell object at 0x7feeee1ed220> has the same name 'LSTMCell' as a built-in Keras object. Consider renaming <class 'keras.layers.recurrent.LSTMCell'> to avoid naming conflicts when loading with `tf.keras.models.load_model`. If renaming is not possible, pass the object in the `custom_objects` parameter of the load function.\n"
     ]
    }
   ],
   "source": [
    "model2.save('./model/bestbuy_model',save_format='tf')"
   ]
  },
  {
   "cell_type": "code",
   "execution_count": 27,
   "id": "45f9fc45",
   "metadata": {},
   "outputs": [],
   "source": [
    "model_ex=tf.keras.models.load_model('./model/bestbuy_model',compile=False)"
   ]
  },
  {
   "cell_type": "code",
   "execution_count": 28,
   "id": "6cf860e2",
   "metadata": {},
   "outputs": [],
   "source": [
    "def invert_multi_hot(encoded_labels):\n",
    "    \"\"\"Reverse a single multi-hot encoded label to a tuple of vocab terms.\"\"\"\n",
    "    hot_indices = np.argwhere(encoded_labels == 1.0)[..., 0] ## removing dimension to have 1D array\n",
    "    return np.take(vocab, hot_indices)"
   ]
  },
  {
   "cell_type": "code",
   "execution_count": 29,
   "id": "5f77472f",
   "metadata": {},
   "outputs": [],
   "source": [
    "def get_labels(probilities,vocab=vocab):\n",
    "    \n",
    "    predicted_proba = [proba for proba in probilities]\n",
    "    iterator =zip(predicted_proba,vocab)\n",
    "    iterator_sorted = sorted(iterator,key=lambda tupl:tupl[0],reverse=True) ## sorting based on probabilities\n",
    "    predicted_lables = [x for _,x in iterator_sorted]\n",
    "    \n",
    "    return predicted_lables\n",
    "    \n",
    "def inference(data,is_train= False):\n",
    "    \"\"\" self explanatory \"\"\"\n",
    "    \n",
    "    dataset = make_dataset(data,is_train)\n",
    "    text_batch, label_batch = next(iter(dataset))\n",
    "    predicted_probabilties = model_ex.predict(text_batch) ##tensor of shape (batch_size,categories)\n",
    "    for i, text in enumerate(text_batch[:5]):\n",
    "        label = label_batch[i].numpy()[None, ...] ## adding newaxis at the \n",
    "        print(f\"text: {text}\\n\")\n",
    "        print(f\"Label(s): {invert_multi_hot(label[0])}\\n\")\n",
    "        \n",
    "        predicted_proba = [proba for proba in predicted_probabilties[i]]\n",
    "        pred_labels=get_labels(predicted_proba)\n",
    "    return pred_labels[:3]\n",
    "        "
   ]
  },
  {
   "cell_type": "code",
   "execution_count": 42,
   "id": "2337af77",
   "metadata": {},
   "outputs": [
    {
     "name": "stdout",
     "output_type": "stream",
     "text": [
      "text: b'JACK SPADE - Folio Case for Apple\\xc2\\xae iPad\\xc2\\xae Air 2 - Navy Compatible with Apple iPad Air 2; microfiber lining; typing mode; hands-free viewing mode; magnetic closure; sleep/wake compatible'\n",
      "\n",
      "Label(s): ['Computers & Tablets' 'iPad & Tablet Accessories'\n",
      " 'Cases, Covers & Keyboard Folios']\n",
      "\n",
      "text: b'Boston Acoustics - A360 6-1/2\" 3-Way Floor Speaker (Each) - Gloss Black 400W peak power; dual 6-1/2\" cone woofers with Deep Channel Design magnets; 1\" Kortec soft-dome tweeter; 3-1/2\" midrange; gold-plated, 5-way binding posts'\n",
      "\n",
      "Label(s): ['Audio' 'Home Audio' 'Speakers']\n",
      "\n",
      "text: b'Easy LP to MP3 - Windows Bring your music into the modern era'\n",
      "\n",
      "Label(s): ['Computers & Tablets' 'Software' 'Design & Illustration']\n",
      "\n",
      "text: b'Projecta - Perm-Wall 106\" Fixed Projector Screen - White From our expanded online assortment; 52\"H x 92\"W viewing area; Da-Mat screen surface; easy installation'\n",
      "\n",
      "Label(s): ['TV & Home Theater' 'TV Stands, Mounts & Furniture'\n",
      " 'Projector Mounts & Screens']\n",
      "\n",
      "text: b'Outdoor Tech - Kodiak USB Rechargeable External Battery - Black OUTDOOR TECH Kodiak USB Rechargeable External Battery: Compatible with most USB and micro USB-enabled devices; 6000 mAh capacity; 2.1-amp output; shockproof and waterproof'\n",
      "\n",
      "Label(s): ['Cell Phones' 'Cell Phone Accessories' 'Cell Phone Batteries & Power']\n",
      "\n",
      "Top3 prediction: ['Cell Phones', 'Cell Phone Accessories', 'Cell Phone Batteries & Power']\n"
     ]
    }
   ],
   "source": [
    "predictions=inference(test.sample(10))\n",
    "\n",
    "print(f\"Top3 prediction: {predictions}\")"
   ]
  },
  {
   "cell_type": "code",
   "execution_count": 31,
   "id": "cb1d9b69",
   "metadata": {},
   "outputs": [],
   "source": [
    "def real_time_prediction(text):\n",
    "    text=tf.expand_dims(text,axis=0)\n",
    "    prob=model_ex.predict(text)\n",
    "    return get_labels(prob[0])[:3]"
   ]
  },
  {
   "cell_type": "code",
   "execution_count": 32,
   "id": "c9f15d5f",
   "metadata": {},
   "outputs": [
    {
     "data": {
      "text/plain": [
       "['Cell Phones', 'Cell Phone Accessories', 'SIM Cards']"
      ]
     },
     "execution_count": 32,
     "metadata": {},
     "output_type": "execute_result"
    }
   ],
   "source": [
    " real_time_prediction('H2O - Bolt 3-in-1 SIM Card H2O Bolt 3-in-1 SIM Card: Compatible with most H2O Bolt or other GSM tablets, e-readers and hotspots; works with H2O Bolt network; 4G LTE speed')"
   ]
  },
  {
   "cell_type": "code",
   "execution_count": 33,
   "id": "22987f64",
   "metadata": {},
   "outputs": [
    {
     "name": "stderr",
     "output_type": "stream",
     "text": [
      "WARNING:absl:Found untraced functions such as lstm_cell_1_layer_call_fn, lstm_cell_1_layer_call_and_return_conditional_losses, lstm_cell_2_layer_call_fn, lstm_cell_2_layer_call_and_return_conditional_losses, lstm_cell_4_layer_call_fn while saving (showing 5 of 8). These functions will not be directly callable after loading.\n"
     ]
    },
    {
     "name": "stdout",
     "output_type": "stream",
     "text": [
      "INFO:tensorflow:Assets written to: ./model/bestbuy_model1/assets\n"
     ]
    },
    {
     "name": "stderr",
     "output_type": "stream",
     "text": [
      "INFO:tensorflow:Assets written to: ./model/bestbuy_model1/assets\n",
      "WARNING:absl:<keras.layers.recurrent.LSTMCell object at 0x7feeee791a60> has the same name 'LSTMCell' as a built-in Keras object. Consider renaming <class 'keras.layers.recurrent.LSTMCell'> to avoid naming conflicts when loading with `tf.keras.models.load_model`. If renaming is not possible, pass the object in the `custom_objects` parameter of the load function.\n",
      "WARNING:absl:<keras.layers.recurrent.LSTMCell object at 0x7feeee5ea6a0> has the same name 'LSTMCell' as a built-in Keras object. Consider renaming <class 'keras.layers.recurrent.LSTMCell'> to avoid naming conflicts when loading with `tf.keras.models.load_model`. If renaming is not possible, pass the object in the `custom_objects` parameter of the load function.\n",
      "WARNING:absl:<keras.layers.recurrent.LSTMCell object at 0x7feeee08e130> has the same name 'LSTMCell' as a built-in Keras object. Consider renaming <class 'keras.layers.recurrent.LSTMCell'> to avoid naming conflicts when loading with `tf.keras.models.load_model`. If renaming is not possible, pass the object in the `custom_objects` parameter of the load function.\n",
      "WARNING:absl:<keras.layers.recurrent.LSTMCell object at 0x7feeee1ed220> has the same name 'LSTMCell' as a built-in Keras object. Consider renaming <class 'keras.layers.recurrent.LSTMCell'> to avoid naming conflicts when loading with `tf.keras.models.load_model`. If renaming is not possible, pass the object in the `custom_objects` parameter of the load function.\n"
     ]
    }
   ],
   "source": [
    "model.save(\"./model/bestbuy_model1\",save_format='tf')"
   ]
  },
  {
   "cell_type": "code",
   "execution_count": 34,
   "id": "b5df02e8",
   "metadata": {},
   "outputs": [],
   "source": [
    "model1=tf.keras.models.load_model('./model/bestbuy_model1',compile=False)"
   ]
  },
  {
   "cell_type": "code",
   "execution_count": null,
   "id": "3d9f4f07",
   "metadata": {},
   "outputs": [],
   "source": []
  },
  {
   "cell_type": "code",
   "execution_count": null,
   "id": "cef9be70",
   "metadata": {},
   "outputs": [],
   "source": []
  }
 ],
 "metadata": {
  "kernelspec": {
   "display_name": "tf2.8",
   "language": "python",
   "name": "env"
  },
  "language_info": {
   "codemirror_mode": {
    "name": "ipython",
    "version": 3
   },
   "file_extension": ".py",
   "mimetype": "text/x-python",
   "name": "python",
   "nbconvert_exporter": "python",
   "pygments_lexer": "ipython3",
   "version": "3.8.5"
  }
 },
 "nbformat": 4,
 "nbformat_minor": 5
}
